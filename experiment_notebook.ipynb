{
 "cells": [
  {
   "cell_type": "code",
   "execution_count": 21,
   "metadata": {},
   "outputs": [],
   "source": [
    "# imports\n",
    "import pandas as pd"
   ]
  },
  {
   "cell_type": "code",
   "execution_count": 22,
   "metadata": {},
   "outputs": [],
   "source": [
    "# make df, loading 2deep_transript_cleaned.csv from /data directory\n",
    "df = pd.read_csv('data/2deep_transcript_cleaned.csv')"
   ]
  },
  {
   "cell_type": "code",
   "execution_count": 23,
   "metadata": {},
   "outputs": [
    {
     "data": {
      "text/plain": [
       "array(['REST', 'DEPRECIATION', 'AVOIDANCE', 'STABILIZE_SELF',\n",
       "       'ATTACK_OTHER', 'WITHDRAWAL', 'ATTACK_SELF'], dtype=object)"
      ]
     },
     "execution_count": 23,
     "metadata": {},
     "output_type": "execute_result"
    }
   ],
   "source": [
    "# check the unique values in the ExperiencedEmotion1 column\n",
    "df['EmotionRegulation1'].unique()"
   ]
  },
  {
   "cell_type": "code",
   "execution_count": 24,
   "metadata": {},
   "outputs": [],
   "source": [
    "columns_to_merge = ['Eyes', 'Gaze', 'Head', 'HeadTilt', 'Smile', 'Speech', 'UpperBody', 'SmileControl',\n",
    "                   'EkmanExpression', 'ExperiencedEmotion1', 'ExperiencedEmotion2', 'InternalEmotion',\n",
    "                   'ShameAwarenessSituation', 'ShameAwarenessInterview', 'DisplayRule', 'RelationshipIntention',\n",
    "                   'MindednessMean', 'Gender', 'Situation', 'transcript']\n",
    "\n",
    "# merge these columns into one column named User and add the value of these columns with a space in between and in brackets\n",
    "# add the name of the column as a prefix to the value\n",
    "def format_row(row):\n",
    "    return ' '.join(f'{col}: {row[col]}' for col in columns_to_merge)\n",
    "\n",
    "df['User'] = df.apply(format_row, axis=1)\n",
    "\n",
    "# drop the columns that were merged\n",
    "df.drop(columns_to_merge, axis=1, inplace=True)"
   ]
  },
  {
   "cell_type": "code",
   "execution_count": 25,
   "metadata": {},
   "outputs": [
    {
     "data": {
      "text/html": [
       "<div>\n",
       "<style scoped>\n",
       "    .dataframe tbody tr th:only-of-type {\n",
       "        vertical-align: middle;\n",
       "    }\n",
       "\n",
       "    .dataframe tbody tr th {\n",
       "        vertical-align: top;\n",
       "    }\n",
       "\n",
       "    .dataframe thead th {\n",
       "        text-align: right;\n",
       "    }\n",
       "</style>\n",
       "<table border=\"1\" class=\"dataframe\">\n",
       "  <thead>\n",
       "    <tr style=\"text-align: right;\">\n",
       "      <th></th>\n",
       "      <th>EmotionRegulation1</th>\n",
       "      <th>session</th>\n",
       "      <th>context</th>\n",
       "      <th>User</th>\n",
       "    </tr>\n",
       "  </thead>\n",
       "  <tbody>\n",
       "    <tr>\n",
       "      <th>0</th>\n",
       "      <td>REST</td>\n",
       "      <td>VPN01</td>\n",
       "      <td>There are 8 classes of non-verbal behaviour wi...</td>\n",
       "      <td>Eyes: REST Gaze: STRAIGHT_AT_INTERVIEWER Head:...</td>\n",
       "    </tr>\n",
       "    <tr>\n",
       "      <th>1</th>\n",
       "      <td>REST</td>\n",
       "      <td>VPN01</td>\n",
       "      <td>There are 8 classes of non-verbal behaviour wi...</td>\n",
       "      <td>Eyes: REST Gaze: STRAIGHT_AT_INTERVIEWER Head:...</td>\n",
       "    </tr>\n",
       "    <tr>\n",
       "      <th>2</th>\n",
       "      <td>REST</td>\n",
       "      <td>VPN01</td>\n",
       "      <td>There are 8 classes of non-verbal behaviour wi...</td>\n",
       "      <td>Eyes: REST Gaze: STRAIGHT_AT_INTERVIEWER Head:...</td>\n",
       "    </tr>\n",
       "    <tr>\n",
       "      <th>3</th>\n",
       "      <td>REST</td>\n",
       "      <td>VPN01</td>\n",
       "      <td>There are 8 classes of non-verbal behaviour wi...</td>\n",
       "      <td>Eyes: REST Gaze: STRAIGHT_AT_INTERVIEWER Head:...</td>\n",
       "    </tr>\n",
       "    <tr>\n",
       "      <th>4</th>\n",
       "      <td>REST</td>\n",
       "      <td>VPN01</td>\n",
       "      <td>There are 8 classes of non-verbal behaviour wi...</td>\n",
       "      <td>Eyes: REST Gaze: STRAIGHT_AT_INTERVIEWER Head:...</td>\n",
       "    </tr>\n",
       "  </tbody>\n",
       "</table>\n",
       "</div>"
      ],
      "text/plain": [
       "  EmotionRegulation1 session  \\\n",
       "0               REST   VPN01   \n",
       "1               REST   VPN01   \n",
       "2               REST   VPN01   \n",
       "3               REST   VPN01   \n",
       "4               REST   VPN01   \n",
       "\n",
       "                                             context  \\\n",
       "0  There are 8 classes of non-verbal behaviour wi...   \n",
       "1  There are 8 classes of non-verbal behaviour wi...   \n",
       "2  There are 8 classes of non-verbal behaviour wi...   \n",
       "3  There are 8 classes of non-verbal behaviour wi...   \n",
       "4  There are 8 classes of non-verbal behaviour wi...   \n",
       "\n",
       "                                                User  \n",
       "0  Eyes: REST Gaze: STRAIGHT_AT_INTERVIEWER Head:...  \n",
       "1  Eyes: REST Gaze: STRAIGHT_AT_INTERVIEWER Head:...  \n",
       "2  Eyes: REST Gaze: STRAIGHT_AT_INTERVIEWER Head:...  \n",
       "3  Eyes: REST Gaze: STRAIGHT_AT_INTERVIEWER Head:...  \n",
       "4  Eyes: REST Gaze: STRAIGHT_AT_INTERVIEWER Head:...  "
      ]
     },
     "execution_count": 25,
     "metadata": {},
     "output_type": "execute_result"
    }
   ],
   "source": [
    "df.head()"
   ]
  },
  {
   "cell_type": "code",
   "execution_count": 26,
   "metadata": {},
   "outputs": [
    {
     "name": "stdout",
     "output_type": "stream",
     "text": [
      "['REST' 'DEPRECIATION' 'AVOIDANCE' 'STABILIZE_SELF' 'ATTACK_OTHER'\n",
      " 'WITHDRAWAL' 'ATTACK_SELF']\n"
     ]
    }
   ],
   "source": [
    "# check the unique values in the ExperiencedEmotion1 column\n",
    "print(df['EmotionRegulation1'].unique())"
   ]
  },
  {
   "cell_type": "code",
   "execution_count": 27,
   "metadata": {},
   "outputs": [],
   "source": [
    "# brace the content of the User and ExperiencedEmotion1 column with \"\"\"\"\n",
    "df['User'] = '\"' + df['User'] + '\"'\n",
    "df['EmotionRegulation1'] = '\"' + df['EmotionRegulation1'] + '\"'\n"
   ]
  },
  {
   "cell_type": "code",
   "execution_count": 28,
   "metadata": {},
   "outputs": [],
   "source": [
    "# make one test dataframe wehre session value is VPN10 and rest keep in a train dataframe\n",
    "df_train = df[df['session'] != 'VPN10']\n",
    "df_test = df[df['session'] == 'VPN10']"
   ]
  },
  {
   "cell_type": "code",
   "execution_count": 29,
   "metadata": {},
   "outputs": [
    {
     "data": {
      "text/html": [
       "<div>\n",
       "<style scoped>\n",
       "    .dataframe tbody tr th:only-of-type {\n",
       "        vertical-align: middle;\n",
       "    }\n",
       "\n",
       "    .dataframe tbody tr th {\n",
       "        vertical-align: top;\n",
       "    }\n",
       "\n",
       "    .dataframe thead th {\n",
       "        text-align: right;\n",
       "    }\n",
       "</style>\n",
       "<table border=\"1\" class=\"dataframe\">\n",
       "  <thead>\n",
       "    <tr style=\"text-align: right;\">\n",
       "      <th></th>\n",
       "      <th>EmotionRegulation1</th>\n",
       "      <th>session</th>\n",
       "      <th>context</th>\n",
       "      <th>User</th>\n",
       "    </tr>\n",
       "  </thead>\n",
       "  <tbody>\n",
       "    <tr>\n",
       "      <th>8663</th>\n",
       "      <td>\"REST\"</td>\n",
       "      <td>VPN10</td>\n",
       "      <td>There are 8 classes of non-verbal behaviour wi...</td>\n",
       "      <td>\"Eyes: REST Gaze: STRAIGHT_AT_INTERVIEWER Head...</td>\n",
       "    </tr>\n",
       "    <tr>\n",
       "      <th>8664</th>\n",
       "      <td>\"REST\"</td>\n",
       "      <td>VPN10</td>\n",
       "      <td>There are 8 classes of non-verbal behaviour wi...</td>\n",
       "      <td>\"Eyes: REST Gaze: STRAIGHT_AT_INTERVIEWER Head...</td>\n",
       "    </tr>\n",
       "    <tr>\n",
       "      <th>8665</th>\n",
       "      <td>\"REST\"</td>\n",
       "      <td>VPN10</td>\n",
       "      <td>There are 8 classes of non-verbal behaviour wi...</td>\n",
       "      <td>\"Eyes: REST Gaze: STRAIGHT_AT_INTERVIEWER Head...</td>\n",
       "    </tr>\n",
       "    <tr>\n",
       "      <th>8666</th>\n",
       "      <td>\"REST\"</td>\n",
       "      <td>VPN10</td>\n",
       "      <td>There are 8 classes of non-verbal behaviour wi...</td>\n",
       "      <td>\"Eyes: REST Gaze: STRAIGHT_AT_INTERVIEWER Head...</td>\n",
       "    </tr>\n",
       "    <tr>\n",
       "      <th>8667</th>\n",
       "      <td>\"REST\"</td>\n",
       "      <td>VPN10</td>\n",
       "      <td>There are 8 classes of non-verbal behaviour wi...</td>\n",
       "      <td>\"Eyes: REST Gaze: STRAIGHT_AT_INTERVIEWER Head...</td>\n",
       "    </tr>\n",
       "  </tbody>\n",
       "</table>\n",
       "</div>"
      ],
      "text/plain": [
       "     EmotionRegulation1 session  \\\n",
       "8663             \"REST\"   VPN10   \n",
       "8664             \"REST\"   VPN10   \n",
       "8665             \"REST\"   VPN10   \n",
       "8666             \"REST\"   VPN10   \n",
       "8667             \"REST\"   VPN10   \n",
       "\n",
       "                                                context  \\\n",
       "8663  There are 8 classes of non-verbal behaviour wi...   \n",
       "8664  There are 8 classes of non-verbal behaviour wi...   \n",
       "8665  There are 8 classes of non-verbal behaviour wi...   \n",
       "8666  There are 8 classes of non-verbal behaviour wi...   \n",
       "8667  There are 8 classes of non-verbal behaviour wi...   \n",
       "\n",
       "                                                   User  \n",
       "8663  \"Eyes: REST Gaze: STRAIGHT_AT_INTERVIEWER Head...  \n",
       "8664  \"Eyes: REST Gaze: STRAIGHT_AT_INTERVIEWER Head...  \n",
       "8665  \"Eyes: REST Gaze: STRAIGHT_AT_INTERVIEWER Head...  \n",
       "8666  \"Eyes: REST Gaze: STRAIGHT_AT_INTERVIEWER Head...  \n",
       "8667  \"Eyes: REST Gaze: STRAIGHT_AT_INTERVIEWER Head...  "
      ]
     },
     "execution_count": 29,
     "metadata": {},
     "output_type": "execute_result"
    }
   ],
   "source": [
    "df_test.head()"
   ]
  },
  {
   "cell_type": "code",
   "execution_count": 30,
   "metadata": {},
   "outputs": [],
   "source": [
    "# save the train and test dataframes to csv files as train_person_10.csv and test_person_10.csv\n",
    "df_train.to_csv('data/train_person_10.csv', index=False)\n",
    "df_test.to_csv('data/test_person_10.csv', index=False)"
   ]
  }
 ],
 "metadata": {
  "kernelspec": {
   "display_name": "Python 3",
   "language": "python",
   "name": "python3"
  },
  "language_info": {
   "codemirror_mode": {
    "name": "ipython",
    "version": 3
   },
   "file_extension": ".py",
   "mimetype": "text/x-python",
   "name": "python",
   "nbconvert_exporter": "python",
   "pygments_lexer": "ipython3",
   "version": "3.10.12"
  }
 },
 "nbformat": 4,
 "nbformat_minor": 2
}
