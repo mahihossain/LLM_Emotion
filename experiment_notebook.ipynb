{
 "cells": [
  {
   "cell_type": "code",
   "execution_count": 21,
   "metadata": {},
   "outputs": [],
   "source": [
    "# imports\n",
    "import pandas as pd"
   ]
  },
  {
   "cell_type": "code",
   "execution_count": 22,
   "metadata": {},
   "outputs": [],
   "source": [
    "# make df, loading 2deep_transript_cleaned.csv from /data directory\n",
    "df = pd.read_csv('data/2deep_with_all_columns.csv')"
   ]
  },
  {
   "cell_type": "code",
   "execution_count": 23,
   "metadata": {},
   "outputs": [
    {
     "data": {
      "text/plain": [
       "array(['REST', 'DEPRECIATION', 'AVOIDANCE', 'STABILIZE_SELF',\n",
       "       'ATTACK_OTHER', 'WITHDRAWAL', 'ATTACK_SELF'], dtype=object)"
      ]
     },
     "execution_count": 23,
     "metadata": {},
     "output_type": "execute_result"
    }
   ],
   "source": [
    "# check the unique values in the ExperiencedEmotion1 column\n",
    "df['EmotionRegulation1'].unique()"
   ]
  },
  {
   "cell_type": "code",
   "execution_count": 24,
   "metadata": {},
   "outputs": [],
   "source": [
    "columns_to_merge = ['Eyes', 'Gaze', 'Head', 'HeadTilt', 'Smile', 'Speech', 'UpperBody', 'SmileControl',\n",
    "                   'EkmanExpression', 'ExperiencedEmotion1', 'ExperiencedEmotion2', 'InternalEmotion',\n",
    "                   'ShameAwarenessSituation', 'ShameAwarenessInterview', 'DisplayRule', 'RelationshipIntention',\n",
    "                   'MindednessMean', 'Gender', 'Situation', 'transcript', 'conversation_history']\n",
    "\n",
    "def format_row(row):\n",
    "    # Define the groups of columns\n",
    "    nonverbal_behavior_cols = ['Eyes', 'Gaze', 'Head', 'HeadTilt', 'Smile', 'Speech', 'UpperBody', 'SmileControl', 'EkmanExpression']\n",
    "    introspection_cols = ['ExperiencedEmotion1', 'ExperiencedEmotion2', 'InternalEmotion', 'ShameAwarenessSituation', 'ShameAwarenessInterview', 'DisplayRule', 'RelationshipIntention']\n",
    "    personal_info_cols = ['MindednessMean', 'Gender']\n",
    "\n",
    "    # Format the row\n",
    "    formatted_row = (\n",
    "        f\"{row['Situation']}\\n\"\n",
    "        \"The conversation history up to the current point is:\\n\"\n",
    "        f\"{row['conversation_history']}\"\n",
    "        \"The current utterance is:\\n\"\n",
    "        f\"{row['transcript']}\\n\"\n",
    "        \"The interviewee shows the following nonverbal behavior at the current moment:\\n\"\n",
    "        f\"{' '.join(str(row[col]) for col in nonverbal_behavior_cols)}\\n\"\n",
    "        \"The following information was gathered from the qualitative interview after the interaction:\\n\"\n",
    "        f\"{' '.join(str(row[col]) for col in introspection_cols)}\\n\"\n",
    "        \"The following additional personal information was collected from the interviewer:\\n\"\n",
    "        f\"{' '.join(str(row[col]) for col in personal_info_cols)}\\n\"\n",
    "    )\n",
    "\n",
    "    return formatted_row\n",
    "\n",
    "df['User'] = df.apply(format_row, axis=1)\n",
    "\n",
    "# Drop the columns that were merged\n",
    "df.drop(columns_to_merge, axis=1, inplace=True)"
   ]
  },
  {
   "cell_type": "code",
   "execution_count": 25,
   "metadata": {},
   "outputs": [
    {
     "data": {
      "text/html": [
       "<div>\n",
       "<style scoped>\n",
       "    .dataframe tbody tr th:only-of-type {\n",
       "        vertical-align: middle;\n",
       "    }\n",
       "\n",
       "    .dataframe tbody tr th {\n",
       "        vertical-align: top;\n",
       "    }\n",
       "\n",
       "    .dataframe thead th {\n",
       "        text-align: right;\n",
       "    }\n",
       "</style>\n",
       "<table border=\"1\" class=\"dataframe\">\n",
       "  <thead>\n",
       "    <tr style=\"text-align: right;\">\n",
       "      <th></th>\n",
       "      <th>EmotionRegulation1</th>\n",
       "      <th>session</th>\n",
       "      <th>context</th>\n",
       "      <th>User</th>\n",
       "    </tr>\n",
       "  </thead>\n",
       "  <tbody>\n",
       "    <tr>\n",
       "      <th>0</th>\n",
       "      <td>REST</td>\n",
       "      <td>VPN01</td>\n",
       "      <td>The prompt you will receive is from a job inte...</td>\n",
       "      <td>We are concerned with a moment in time in the ...</td>\n",
       "    </tr>\n",
       "    <tr>\n",
       "      <th>1</th>\n",
       "      <td>REST</td>\n",
       "      <td>VPN01</td>\n",
       "      <td>The prompt you will receive is from a job inte...</td>\n",
       "      <td>We are concerned with a moment in time in the ...</td>\n",
       "    </tr>\n",
       "    <tr>\n",
       "      <th>2</th>\n",
       "      <td>REST</td>\n",
       "      <td>VPN01</td>\n",
       "      <td>The prompt you will receive is from a job inte...</td>\n",
       "      <td>We are concerned with a moment in time in the ...</td>\n",
       "    </tr>\n",
       "    <tr>\n",
       "      <th>3</th>\n",
       "      <td>REST</td>\n",
       "      <td>VPN01</td>\n",
       "      <td>The prompt you will receive is from a job inte...</td>\n",
       "      <td>We are concerned with a moment in time in the ...</td>\n",
       "    </tr>\n",
       "    <tr>\n",
       "      <th>4</th>\n",
       "      <td>REST</td>\n",
       "      <td>VPN01</td>\n",
       "      <td>The prompt you will receive is from a job inte...</td>\n",
       "      <td>We are concerned with a moment in time in the ...</td>\n",
       "    </tr>\n",
       "  </tbody>\n",
       "</table>\n",
       "</div>"
      ],
      "text/plain": [
       "  EmotionRegulation1 session  \\\n",
       "0               REST   VPN01   \n",
       "1               REST   VPN01   \n",
       "2               REST   VPN01   \n",
       "3               REST   VPN01   \n",
       "4               REST   VPN01   \n",
       "\n",
       "                                             context  \\\n",
       "0  The prompt you will receive is from a job inte...   \n",
       "1  The prompt you will receive is from a job inte...   \n",
       "2  The prompt you will receive is from a job inte...   \n",
       "3  The prompt you will receive is from a job inte...   \n",
       "4  The prompt you will receive is from a job inte...   \n",
       "\n",
       "                                                User  \n",
       "0  We are concerned with a moment in time in the ...  \n",
       "1  We are concerned with a moment in time in the ...  \n",
       "2  We are concerned with a moment in time in the ...  \n",
       "3  We are concerned with a moment in time in the ...  \n",
       "4  We are concerned with a moment in time in the ...  "
      ]
     },
     "execution_count": 25,
     "metadata": {},
     "output_type": "execute_result"
    }
   ],
   "source": [
    "df.head()"
   ]
  },
  {
   "cell_type": "code",
   "execution_count": 26,
   "metadata": {},
   "outputs": [
    {
     "name": "stdout",
     "output_type": "stream",
     "text": [
      "We are concerned with a moment in time in the first shame induction situation. The agent tries to induce shame by attacking the interviewee’s personal attractiveness: “Before we start, one short question: Where did you get this outfit? Somehow it doesn’t really suit you.”\n",
      "The conversation history up to the current point is:\n",
      "[Interviewee] Uh, that's..\n",
      "[Avatar] Somehow that doesn't fit you at all.\n",
      "[Interviewee] Okay.\n",
      "[Interviewee] I'm sorry.\n",
      "The current utterance is:\n",
      "[The interviewee and interviewer are silent.]\n",
      "The interviewee shows the following nonverbal behavior at the current moment:\n",
      "The interviewee blinks more than once in a row. The interviewee looks to the right. The interviewee holds their head straight.   The interviewee shows a Duchenne smile, i.e. a smile that reaches the eyes. The interviewee laughs. The interviewee's upper body stays straight.   The interviewee shows the Ekman expression joy.\n",
      "The following information was gathered from the qualitative interview after the interaction:\n",
      "The interviewee experienced the emotion shame/shyness at this moment in time during the job interview. The interviewee experienced the emotion surprise at this moment in time during the job interview. The interviewee experiences the following internal emotion at the current moment in time: shame/shyness. The interviewee was aware of feeling ashamed during the current moment in the job interview. During the qualitative interview, the interviewee became aware that they were having the emotion shame during the current moment in the job interview.   The interviewee has the intention to maintain the relationship with the avatar.\n",
      "The following additional personal information was collected from the interviewer:\n",
      "The mindedness score of the interviewee is 4,75 The interviewee is female.\n",
      "\n"
     ]
    }
   ],
   "source": [
    "# Print the value of the User column from 100th row\n",
    "print(df['User'][200])"
   ]
  },
  {
   "cell_type": "code",
   "execution_count": 27,
   "metadata": {},
   "outputs": [
    {
     "name": "stdout",
     "output_type": "stream",
     "text": [
      "['REST' 'DEPRECIATION' 'AVOIDANCE' 'STABILIZE_SELF' 'ATTACK_OTHER'\n",
      " 'WITHDRAWAL' 'ATTACK_SELF']\n"
     ]
    }
   ],
   "source": [
    "# check the unique values in the ExperiencedEmotion1 column\n",
    "print(df['EmotionRegulation1'].unique())"
   ]
  },
  {
   "cell_type": "code",
   "execution_count": 28,
   "metadata": {},
   "outputs": [],
   "source": [
    "# brace the content of the User and ExperiencedEmotion1 column with \"\"\"\"\n",
    "# df['User'] = '\"' + df['User'] + '\"'\n",
    "# df['EmotionRegulation1'] = '\"' + df['EmotionRegulation1'] + '\"'\n"
   ]
  },
  {
   "cell_type": "code",
   "execution_count": 29,
   "metadata": {},
   "outputs": [],
   "source": [
    "# Get the unique session values\n",
    "sessions = df['session'].unique()\n",
    "\n",
    "# Initialize dictionaries to hold the train and test DataFrames for each session\n",
    "train_dfs = {}\n",
    "test_dfs = {}\n",
    "\n",
    "# Iterate over the unique session values\n",
    "for session in sessions:\n",
    "    # Create the train and test DataFrames for this session\n",
    "    train_dfs[session] = df[df['session'] != session]\n",
    "    test_dfs[session] = df[df['session'] == session]"
   ]
  },
  {
   "cell_type": "code",
   "execution_count": 30,
   "metadata": {},
   "outputs": [],
   "source": [
    "# Iterate over the train DataFrames\n",
    "for session, df in train_dfs.items():\n",
    "    # Save the DataFrame to a CSV file named after the session\n",
    "    df.to_csv(f'data/train_{session}.csv', index=False)\n",
    "\n",
    "# Iterate over the test DataFrames\n",
    "for session, df in test_dfs.items():\n",
    "    # Save the DataFrame to a CSV file named after the session\n",
    "    df.to_csv(f'data/test_{session}.csv', index=False)"
   ]
  }
 ],
 "metadata": {
  "kernelspec": {
   "display_name": "Python 3",
   "language": "python",
   "name": "python3"
  },
  "language_info": {
   "codemirror_mode": {
    "name": "ipython",
    "version": 3
   },
   "file_extension": ".py",
   "mimetype": "text/x-python",
   "name": "python",
   "nbconvert_exporter": "python",
   "pygments_lexer": "ipython3",
   "version": "3.10.12"
  }
 },
 "nbformat": 4,
 "nbformat_minor": 2
}
