{
 "cells": [
  {
   "cell_type": "code",
   "execution_count": 1,
   "metadata": {},
   "outputs": [],
   "source": [
    "# imports\n",
    "import pandas as pd"
   ]
  },
  {
   "cell_type": "code",
   "execution_count": 2,
   "metadata": {},
   "outputs": [],
   "source": [
    "# make df, loading 2deep_transript_cleaned.csv from /data directory\n",
    "df = pd.read_csv('data/2deep_with_all_columns.csv')"
   ]
  },
  {
   "cell_type": "code",
   "execution_count": 3,
   "metadata": {},
   "outputs": [
    {
     "data": {
      "text/plain": [
       "array(['REST', 'DEPRECIATION', 'AVOIDANCE', 'STABILIZE_SELF',\n",
       "       'ATTACK_OTHER', 'WITHDRAWAL', 'ATTACK_SELF'], dtype=object)"
      ]
     },
     "execution_count": 3,
     "metadata": {},
     "output_type": "execute_result"
    }
   ],
   "source": [
    "# check the unique values in the ExperiencedEmotion1 column\n",
    "df['EmotionRegulation1'].unique()"
   ]
  },
  {
   "cell_type": "code",
   "execution_count": 4,
   "metadata": {},
   "outputs": [],
   "source": [
    "columns_to_merge = ['Eyes', 'Gaze', 'Head', 'HeadTilt', 'Smile', 'Speech', 'UpperBody', 'SmileControl',\n",
    "                   'EkmanExpression', 'ExperiencedEmotion1', 'ExperiencedEmotion2', 'InternalEmotion',\n",
    "                   'ShameAwarenessSituation', 'ShameAwarenessInterview', 'DisplayRule', 'RelationshipIntention',\n",
    "                   'MindednessMean', 'Gender', 'Situation', 'transcript', 'conversation_history']\n",
    "\n",
    "def format_row(row):\n",
    "    # Define the groups of columns\n",
    "    nonverbal_behavior_cols = ['Eyes', 'Gaze', 'Head', 'HeadTilt', 'Smile', 'Speech', 'UpperBody', 'SmileControl', 'EkmanExpression']\n",
    "    introspection_cols = ['ExperiencedEmotion1', 'ExperiencedEmotion2', 'InternalEmotion', 'ShameAwarenessSituation', 'ShameAwarenessInterview', 'DisplayRule', 'RelationshipIntention']\n",
    "    personal_info_cols = ['MindednessMean', 'Gender']\n",
    "\n",
    "    # Format the row\n",
    "    formatted_row = (\n",
    "        f\"{row['Situation']}\\n\"\n",
    "        \"The interviewee shows the following nonverbal behavior at the current moment:\\n\"\n",
    "        f\"{' '.join(str(row[col]) for col in nonverbal_behavior_cols)}\\n\"\n",
    "        \"The following information was gathered from the qualitative interview after the interaction:\\n\"\n",
    "        f\"{' '.join(str(row[col]) for col in introspection_cols)}\\n\"\n",
    "        \"The following additional personal information was collected from the interviewer:\\n\"\n",
    "        f\"{' '.join(str(row[col]) for col in personal_info_cols)}\\n\"\n",
    "        \"The current utterance is:\\n\"\n",
    "        f\"{row['transcript']}\\n\"\n",
    "        \"The conversation history up to the current point is:\\n\"\n",
    "        f\"{row['conversation_history']}\"\n",
    "    )\n",
    "\n",
    "    return formatted_row\n",
    "\n",
    "df['User'] = df.apply(format_row, axis=1)\n",
    "\n",
    "# Drop the columns that were merged\n",
    "df.drop(columns_to_merge, axis=1, inplace=True)"
   ]
  },
  {
   "cell_type": "code",
   "execution_count": 5,
   "metadata": {},
   "outputs": [
    {
     "data": {
      "text/html": [
       "<div>\n",
       "<style scoped>\n",
       "    .dataframe tbody tr th:only-of-type {\n",
       "        vertical-align: middle;\n",
       "    }\n",
       "\n",
       "    .dataframe tbody tr th {\n",
       "        vertical-align: top;\n",
       "    }\n",
       "\n",
       "    .dataframe thead th {\n",
       "        text-align: right;\n",
       "    }\n",
       "</style>\n",
       "<table border=\"1\" class=\"dataframe\">\n",
       "  <thead>\n",
       "    <tr style=\"text-align: right;\">\n",
       "      <th></th>\n",
       "      <th>EmotionRegulation1</th>\n",
       "      <th>session</th>\n",
       "      <th>context</th>\n",
       "      <th>User</th>\n",
       "    </tr>\n",
       "  </thead>\n",
       "  <tbody>\n",
       "    <tr>\n",
       "      <th>0</th>\n",
       "      <td>REST</td>\n",
       "      <td>VPN01</td>\n",
       "      <td>The prompt you will receive is from a job inte...</td>\n",
       "      <td>We are concerned with a moment in time in the ...</td>\n",
       "    </tr>\n",
       "    <tr>\n",
       "      <th>1</th>\n",
       "      <td>REST</td>\n",
       "      <td>VPN01</td>\n",
       "      <td>The prompt you will receive is from a job inte...</td>\n",
       "      <td>We are concerned with a moment in time in the ...</td>\n",
       "    </tr>\n",
       "    <tr>\n",
       "      <th>2</th>\n",
       "      <td>REST</td>\n",
       "      <td>VPN01</td>\n",
       "      <td>The prompt you will receive is from a job inte...</td>\n",
       "      <td>We are concerned with a moment in time in the ...</td>\n",
       "    </tr>\n",
       "    <tr>\n",
       "      <th>3</th>\n",
       "      <td>REST</td>\n",
       "      <td>VPN01</td>\n",
       "      <td>The prompt you will receive is from a job inte...</td>\n",
       "      <td>We are concerned with a moment in time in the ...</td>\n",
       "    </tr>\n",
       "    <tr>\n",
       "      <th>4</th>\n",
       "      <td>REST</td>\n",
       "      <td>VPN01</td>\n",
       "      <td>The prompt you will receive is from a job inte...</td>\n",
       "      <td>We are concerned with a moment in time in the ...</td>\n",
       "    </tr>\n",
       "  </tbody>\n",
       "</table>\n",
       "</div>"
      ],
      "text/plain": [
       "  EmotionRegulation1 session  \\\n",
       "0               REST   VPN01   \n",
       "1               REST   VPN01   \n",
       "2               REST   VPN01   \n",
       "3               REST   VPN01   \n",
       "4               REST   VPN01   \n",
       "\n",
       "                                             context  \\\n",
       "0  The prompt you will receive is from a job inte...   \n",
       "1  The prompt you will receive is from a job inte...   \n",
       "2  The prompt you will receive is from a job inte...   \n",
       "3  The prompt you will receive is from a job inte...   \n",
       "4  The prompt you will receive is from a job inte...   \n",
       "\n",
       "                                                User  \n",
       "0  We are concerned with a moment in time in the ...  \n",
       "1  We are concerned with a moment in time in the ...  \n",
       "2  We are concerned with a moment in time in the ...  \n",
       "3  We are concerned with a moment in time in the ...  \n",
       "4  We are concerned with a moment in time in the ...  "
      ]
     },
     "execution_count": 5,
     "metadata": {},
     "output_type": "execute_result"
    }
   ],
   "source": [
    "df.head()"
   ]
  },
  {
   "cell_type": "code",
   "execution_count": 11,
   "metadata": {},
   "outputs": [
    {
     "name": "stdout",
     "output_type": "stream",
     "text": [
      "We are concerned with a moment in time in the first shame induction situation. The agent tries to induce shame by attacking the interviewee’s personal attractiveness: “Before we start, one short question: Where did you get this outfit? Somehow it doesn’t really suit you.”\n",
      "The interviewee shows the following nonverbal behavior at the current moment:\n",
      "The interviewee blinks more than once in a row. The interviewee looks to the right. The interviewee holds their head straight.   The interviewee shows a Duchenne smile, i.e. a smile that reaches the eyes. The interviewee laughs. The interviewee's upper body stays straight.   The interviewee shows the Ekman expression joy.\n",
      "The following information was gathered from the qualitative interview after the interaction:\n",
      "The interviewee experienced the emotion shame/shyness at this moment in time during the job interview. The interviewee experienced the emotion surprise at this moment in time during the job interview. The interviewee experiences the following internal emotion at the current moment in time: shame/shyness. The interviewee was aware of feeling ashamed during the current moment in the job interview. During the qualitative interview, the interviewee became aware that they were having the emotion shame during the current moment in the job interview.   The interviewee has the intention to maintain the relationship with the avatar.\n",
      "The following additional personal information was collected from the interviewer:\n",
      "The mindedness score of the interviewee is 4,75 The interviewee is female.\n",
      "The current utterance is:\n",
      "The interviewee and interviewer were silent here.\n",
      "The conversation history up to the current point is:\n",
      "The interviewee and interviewer were silent here.\n",
      "The interviewee said: Uh, that's...\n",
      "The interviewer said: : Somehow you don't like it at all.\n",
      "The interviewee said: Okay.\n",
      "The interviewee said: I'm sorry.\n",
      "\n"
     ]
    }
   ],
   "source": [
    "# Print the value of the User column from 100th row\n",
    "print(df['User'][200])"
   ]
  },
  {
   "cell_type": "code",
   "execution_count": 26,
   "metadata": {},
   "outputs": [
    {
     "name": "stdout",
     "output_type": "stream",
     "text": [
      "['REST' 'DEPRECIATION' 'AVOIDANCE' 'STABILIZE_SELF' 'ATTACK_OTHER'\n",
      " 'WITHDRAWAL' 'ATTACK_SELF']\n"
     ]
    }
   ],
   "source": [
    "# check the unique values in the ExperiencedEmotion1 column\n",
    "print(df['EmotionRegulation1'].unique())"
   ]
  },
  {
   "cell_type": "code",
   "execution_count": 27,
   "metadata": {},
   "outputs": [],
   "source": [
    "# brace the content of the User and ExperiencedEmotion1 column with \"\"\"\"\n",
    "# df['User'] = '\"' + df['User'] + '\"'\n",
    "# df['EmotionRegulation1'] = '\"' + df['EmotionRegulation1'] + '\"'\n"
   ]
  },
  {
   "cell_type": "code",
   "execution_count": 28,
   "metadata": {},
   "outputs": [],
   "source": [
    "# make one test dataframe wehre session value is VPN10 and rest keep in a train dataframe\n",
    "df_train = df[df['session'] != 'VPN10']\n",
    "df_test = df[df['session'] == 'VPN10']"
   ]
  },
  {
   "cell_type": "code",
   "execution_count": 29,
   "metadata": {},
   "outputs": [
    {
     "data": {
      "text/html": [
       "<div>\n",
       "<style scoped>\n",
       "    .dataframe tbody tr th:only-of-type {\n",
       "        vertical-align: middle;\n",
       "    }\n",
       "\n",
       "    .dataframe tbody tr th {\n",
       "        vertical-align: top;\n",
       "    }\n",
       "\n",
       "    .dataframe thead th {\n",
       "        text-align: right;\n",
       "    }\n",
       "</style>\n",
       "<table border=\"1\" class=\"dataframe\">\n",
       "  <thead>\n",
       "    <tr style=\"text-align: right;\">\n",
       "      <th></th>\n",
       "      <th>EmotionRegulation1</th>\n",
       "      <th>session</th>\n",
       "      <th>context</th>\n",
       "      <th>User</th>\n",
       "    </tr>\n",
       "  </thead>\n",
       "  <tbody>\n",
       "    <tr>\n",
       "      <th>8663</th>\n",
       "      <td>\"REST\"</td>\n",
       "      <td>VPN10</td>\n",
       "      <td>There are 8 classes of non-verbal behaviour wi...</td>\n",
       "      <td>\"Eyes: REST Gaze: STRAIGHT_AT_INTERVIEWER Head...</td>\n",
       "    </tr>\n",
       "    <tr>\n",
       "      <th>8664</th>\n",
       "      <td>\"REST\"</td>\n",
       "      <td>VPN10</td>\n",
       "      <td>There are 8 classes of non-verbal behaviour wi...</td>\n",
       "      <td>\"Eyes: REST Gaze: STRAIGHT_AT_INTERVIEWER Head...</td>\n",
       "    </tr>\n",
       "    <tr>\n",
       "      <th>8665</th>\n",
       "      <td>\"REST\"</td>\n",
       "      <td>VPN10</td>\n",
       "      <td>There are 8 classes of non-verbal behaviour wi...</td>\n",
       "      <td>\"Eyes: REST Gaze: STRAIGHT_AT_INTERVIEWER Head...</td>\n",
       "    </tr>\n",
       "    <tr>\n",
       "      <th>8666</th>\n",
       "      <td>\"REST\"</td>\n",
       "      <td>VPN10</td>\n",
       "      <td>There are 8 classes of non-verbal behaviour wi...</td>\n",
       "      <td>\"Eyes: REST Gaze: STRAIGHT_AT_INTERVIEWER Head...</td>\n",
       "    </tr>\n",
       "    <tr>\n",
       "      <th>8667</th>\n",
       "      <td>\"REST\"</td>\n",
       "      <td>VPN10</td>\n",
       "      <td>There are 8 classes of non-verbal behaviour wi...</td>\n",
       "      <td>\"Eyes: REST Gaze: STRAIGHT_AT_INTERVIEWER Head...</td>\n",
       "    </tr>\n",
       "  </tbody>\n",
       "</table>\n",
       "</div>"
      ],
      "text/plain": [
       "     EmotionRegulation1 session  \\\n",
       "8663             \"REST\"   VPN10   \n",
       "8664             \"REST\"   VPN10   \n",
       "8665             \"REST\"   VPN10   \n",
       "8666             \"REST\"   VPN10   \n",
       "8667             \"REST\"   VPN10   \n",
       "\n",
       "                                                context  \\\n",
       "8663  There are 8 classes of non-verbal behaviour wi...   \n",
       "8664  There are 8 classes of non-verbal behaviour wi...   \n",
       "8665  There are 8 classes of non-verbal behaviour wi...   \n",
       "8666  There are 8 classes of non-verbal behaviour wi...   \n",
       "8667  There are 8 classes of non-verbal behaviour wi...   \n",
       "\n",
       "                                                   User  \n",
       "8663  \"Eyes: REST Gaze: STRAIGHT_AT_INTERVIEWER Head...  \n",
       "8664  \"Eyes: REST Gaze: STRAIGHT_AT_INTERVIEWER Head...  \n",
       "8665  \"Eyes: REST Gaze: STRAIGHT_AT_INTERVIEWER Head...  \n",
       "8666  \"Eyes: REST Gaze: STRAIGHT_AT_INTERVIEWER Head...  \n",
       "8667  \"Eyes: REST Gaze: STRAIGHT_AT_INTERVIEWER Head...  "
      ]
     },
     "execution_count": 29,
     "metadata": {},
     "output_type": "execute_result"
    }
   ],
   "source": [
    "df_test.head()"
   ]
  },
  {
   "cell_type": "code",
   "execution_count": 30,
   "metadata": {},
   "outputs": [],
   "source": [
    "# save the train and test dataframes to csv files as train_person_10.csv and test_person_10.csv\n",
    "df_train.to_csv('data/train_person_10.csv', index=False)\n",
    "df_test.to_csv('data/test_person_10.csv', index=False)"
   ]
  }
 ],
 "metadata": {
  "kernelspec": {
   "display_name": "Python 3",
   "language": "python",
   "name": "python3"
  },
  "language_info": {
   "codemirror_mode": {
    "name": "ipython",
    "version": 3
   },
   "file_extension": ".py",
   "mimetype": "text/x-python",
   "name": "python",
   "nbconvert_exporter": "python",
   "pygments_lexer": "ipython3",
   "version": "3.10.12"
  }
 },
 "nbformat": 4,
 "nbformat_minor": 2
}
