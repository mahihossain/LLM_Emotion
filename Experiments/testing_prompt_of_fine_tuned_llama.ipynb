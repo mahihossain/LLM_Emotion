{
 "cells": [
  {
   "cell_type": "code",
   "execution_count": 1,
   "metadata": {
    "execution": {
     "iopub.execute_input": "2024-03-01T03:16:18.562321Z",
     "iopub.status.busy": "2024-03-01T03:16:18.561903Z",
     "iopub.status.idle": "2024-03-01T03:16:21.278252Z",
     "shell.execute_reply": "2024-03-01T03:16:21.277361Z"
    }
   },
   "outputs": [],
   "source": [
    "import torch\n",
    "from peft import (\n",
    "    PeftConfig,\n",
    "    PeftModel\n",
    ")\n",
    "from transformers import (\n",
    "    AutoModelForCausalLM,\n",
    "    AutoTokenizer\n",
    ")\n",
    "\n",
    "import pandas as pd\n",
    "\n",
    "from collections import Counter\n",
    "from tqdm import tqdm"
   ]
  },
  {
   "cell_type": "code",
   "execution_count": 2,
   "metadata": {
    "execution": {
     "iopub.execute_input": "2024-03-01T03:16:21.281161Z",
     "iopub.status.busy": "2024-03-01T03:16:21.280828Z",
     "iopub.status.idle": "2024-03-01T03:16:21.331999Z",
     "shell.execute_reply": "2024-03-01T03:16:21.331123Z"
    }
   },
   "outputs": [],
   "source": [
    "# load the test data\n",
    "df = pd.read_csv('../data/test_VPN10.csv')"
   ]
  },
  {
   "cell_type": "code",
   "execution_count": 3,
   "metadata": {
    "execution": {
     "iopub.execute_input": "2024-03-01T03:16:21.335020Z",
     "iopub.status.busy": "2024-03-01T03:16:21.334488Z",
     "iopub.status.idle": "2024-03-01T03:16:27.790175Z",
     "shell.execute_reply": "2024-03-01T03:16:27.789243Z"
    }
   },
   "outputs": [
    {
     "data": {
      "application/vnd.jupyter.widget-view+json": {
       "model_id": "cef78183666047afa59e4c21bee40551",
       "version_major": 2,
       "version_minor": 0
      },
      "text/plain": [
       "Loading checkpoint shards:   0%|          | 0/6 [00:00<?, ?it/s]"
      ]
     },
     "metadata": {},
     "output_type": "display_data"
    },
    {
     "name": "stdout",
     "output_type": "stream",
     "text": [
      "Using device: cuda\n"
     ]
    }
   ],
   "source": [
    "PEFT_MODEL = \"./models/llama-2-7b-chat-hf-llm-emo-person-10-finetuned-peft/\"\n",
    "\n",
    "config = PeftConfig.from_pretrained(PEFT_MODEL)\n",
    "model = AutoModelForCausalLM.from_pretrained(\n",
    "    config.base_model_name_or_path,\n",
    "    return_dict=True,\n",
    "    device_map=\"auto\",\n",
    "    trust_remote_code=True\n",
    ")\n",
    "\n",
    "tokenizer=AutoTokenizer.from_pretrained(config.base_model_name_or_path)\n",
    "tokenizer.pad_token = tokenizer.eos_token\n",
    "\n",
    "model = PeftModel.from_pretrained(model, PEFT_MODEL)\n",
    "\n",
    "# %%\n",
    "generation_config = model.generation_config\n",
    "generation_config.max_new_tokens = 200\n",
    "generation_config.temperature = 0.7\n",
    "generation_config.top_p = 0.7\n",
    "generation_config.num_return_sequences = 1\n",
    "generation_config.pad_token_id = tokenizer.eos_token_id\n",
    "generation_config.eos_token_id = tokenizer.eos_token_id\n",
    "\n",
    "# if cuda is available, use it\n",
    "device = torch.device(\"cuda\" if torch.cuda.is_available() else \"cpu\")\n",
    "print(f\"Using device: {device}\")\n",
    "\n",
    "# prompt = \"\"\"\n",
    "# <human>: midjourney prompt for a boy running in the snow\n",
    "# <context>: \n",
    "# <assistant>:\n",
    "# \"\"\".strip()\n",
    "\n",
    "# encoding = tokenizer(prompt, return_tensors=\"pt\").to(device)\n",
    "# with torch.inference_mode():\n",
    "#   outputs = model.generate(\n",
    "#       input_ids = encoding.input_ids,\n",
    "#       attention_mask = encoding.attention_mask,\n",
    "#       generation_config = generation_config\n",
    "#   )\n",
    "\n",
    "# print(tokenizer.decode(outputs[0], skip_special_tokens=True))"
   ]
  },
  {
   "cell_type": "code",
   "execution_count": 4,
   "metadata": {
    "execution": {
     "iopub.execute_input": "2024-03-01T03:16:27.793276Z",
     "iopub.status.busy": "2024-03-01T03:16:27.792692Z",
     "iopub.status.idle": "2024-03-01T03:16:27.796577Z",
     "shell.execute_reply": "2024-03-01T03:16:27.795964Z"
    }
   },
   "outputs": [],
   "source": [
    "emotions = ['REST', 'DEPRECIATION', 'AVOIDANCE', 'STABILIZE_SELF', 'ATTACK_OTHER', 'WITHDRAWAL', 'ATTACK_SELF']\n",
    "df_copy = df.copy()"
   ]
  },
  {
   "cell_type": "code",
   "execution_count": 5,
   "metadata": {
    "execution": {
     "iopub.execute_input": "2024-03-01T03:16:27.798944Z",
     "iopub.status.busy": "2024-03-01T03:16:27.798461Z",
     "iopub.status.idle": "2024-03-01T03:16:27.802496Z",
     "shell.execute_reply": "2024-03-01T03:16:27.801905Z"
    }
   },
   "outputs": [
    {
     "data": {
      "text/plain": [
       "['\"REST\"',\n",
       " '\"WITHDRAWAL\"',\n",
       " '\"ATTACK_SELF\"',\n",
       " '\"DEPRECIATION\"',\n",
       " '\"AVOIDANCE\"',\n",
       " '\"STABILIZE_SELF\"',\n",
       " '\"ATTACK_OTHER\"']"
      ]
     },
     "execution_count": 5,
     "metadata": {},
     "output_type": "execute_result"
    }
   ],
   "source": [
    "emotions"
   ]
  },
  {
   "cell_type": "code",
   "execution_count": 6,
   "metadata": {
    "execution": {
     "iopub.execute_input": "2024-03-01T03:16:27.804783Z",
     "iopub.status.busy": "2024-03-01T03:16:27.804411Z",
     "iopub.status.idle": "2024-03-01T05:59:26.892159Z",
     "shell.execute_reply": "2024-03-01T05:59:26.891094Z"
    }
   },
   "outputs": [
    {
     "name": "stderr",
     "output_type": "stream",
     "text": [
      "100%|████████████████████████████████████████████████████████████████████████████████████████████████████████████████████████████████████████████████████████| 1232/1232 [2:42:59<00:00,  7.94s/it]\n"
     ]
    }
   ],
   "source": [
    "# iterate over the dataset, User column is <human> and <context> is the context and <assistant> is the model response\n",
    "for index, row in tqdm(df.iterrows(), total=df.shape[0]):\n",
    "    prompt = f\"\"\"\n",
    "    <human>: {row['User']}\n",
    "    <context>: {row['context']}\n",
    "    <assistant>:\n",
    "    \"\"\".strip()\n",
    "\n",
    "    encoding = tokenizer(prompt, return_tensors=\"pt\").to(device)\n",
    "    with torch.inference_mode():\n",
    "        outputs = model.generate(\n",
    "            input_ids = encoding.input_ids,\n",
    "            attention_mask = encoding.attention_mask,\n",
    "            generation_config = generation_config\n",
    "        )\n",
    "\n",
    "    # Decode the assistant's response\n",
    "    assistant_response = tokenizer.decode(outputs[0], skip_special_tokens=True)\n",
    "\n",
    "    # Extract the part of the assistant's response that comes after '<assistant>'\n",
    "    assistant_response = assistant_response.split('<assistant>')[-1].strip().lower()\n",
    "\n",
    "    # Check if the assistant's response contains a valid emotion\n",
    "    emotion_counter = Counter()\n",
    "    for emotion in emotions:\n",
    "        emotion_counter[emotion] = assistant_response.count(emotion.lower())\n",
    "\n",
    "    if emotion_counter:\n",
    "        # If a valid emotion is found and it's the same as the ground truth, keep the ground truth in df_copy\n",
    "        most_common_emotion = emotion_counter.most_common(1)[0][0]\n",
    "        if row['EmotionRegulation1'].lower() in [emotion for emotion, count in emotion_counter.items() if count > 0]:\n",
    "            df_copy.loc[index, 'EmotionRegulation1'] = row['EmotionRegulation1']\n",
    "        else:\n",
    "            # If a valid emotion is found but it's not the same as the ground truth, replace the ground truth with the most common emotion in df_copy\n",
    "            df_copy.loc[index, 'EmotionRegulation1'] = most_common_emotion\n",
    "    else:\n",
    "        # If no valid emotion is found, put 'REST' in df_copy\n",
    "        df_copy.loc[index, 'EmotionRegulation1'] = 'REST'"
   ]
  },
  {
   "cell_type": "code",
   "execution_count": 7,
   "metadata": {
    "execution": {
     "iopub.execute_input": "2024-03-01T05:59:26.894786Z",
     "iopub.status.busy": "2024-03-01T05:59:26.894593Z",
     "iopub.status.idle": "2024-03-01T05:59:26.904424Z",
     "shell.execute_reply": "2024-03-01T05:59:26.903712Z"
    }
   },
   "outputs": [],
   "source": [
    "# Keep only the 'EmotionRegulation1' column and convert it to a DataFrame\n",
    "df_copy = df_copy[['EmotionRegulation1']]\n",
    "\n",
    "# Rename the 'EmotionRegulation1' column to 'Predicted'\n",
    "df_copy = df_copy.rename(columns={'EmotionRegulation1': 'Predicted'})\n",
    "\n",
    "# Add a column 'GroundTruth' with the original 'EmotionRegulation1' column from df\n",
    "df_copy['GroundTruth'] = df['EmotionRegulation1']\n",
    "\n",
    "# Save the df_copy to a csv file as prediction_person_10.csv\n",
    "df_copy.to_csv('../data/predictions/llama_prediction_person_10.csv', index=False)"
   ]
  }
 ],
 "metadata": {
  "kernelspec": {
   "display_name": "Python 3",
   "language": "python",
   "name": "python3"
  },
  "language_info": {
   "codemirror_mode": {
    "name": "ipython",
    "version": 3
   },
   "file_extension": ".py",
   "mimetype": "text/x-python",
   "name": "python",
   "nbconvert_exporter": "python",
   "pygments_lexer": "ipython3",
   "version": "3.10.12"
  },
  "widgets": {
   "application/vnd.jupyter.widget-state+json": {
    "state": {
     "0fd05fee7594458b9da55f526273ef6b": {
      "model_module": "@jupyter-widgets/controls",
      "model_module_version": "2.0.0",
      "model_name": "HTMLStyleModel",
      "state": {
       "_model_module": "@jupyter-widgets/controls",
       "_model_module_version": "2.0.0",
       "_model_name": "HTMLStyleModel",
       "_view_count": null,
       "_view_module": "@jupyter-widgets/base",
       "_view_module_version": "2.0.0",
       "_view_name": "StyleView",
       "background": null,
       "description_width": "",
       "font_size": null,
       "text_color": null
      }
     },
     "23f16261c9e740febcc129b8d82fdf86": {
      "model_module": "@jupyter-widgets/controls",
      "model_module_version": "2.0.0",
      "model_name": "ProgressStyleModel",
      "state": {
       "_model_module": "@jupyter-widgets/controls",
       "_model_module_version": "2.0.0",
       "_model_name": "ProgressStyleModel",
       "_view_count": null,
       "_view_module": "@jupyter-widgets/base",
       "_view_module_version": "2.0.0",
       "_view_name": "StyleView",
       "bar_color": null,
       "description_width": ""
      }
     },
     "2656575751c74be9aa9f9b01839d3aeb": {
      "model_module": "@jupyter-widgets/base",
      "model_module_version": "2.0.0",
      "model_name": "LayoutModel",
      "state": {
       "_model_module": "@jupyter-widgets/base",
       "_model_module_version": "2.0.0",
       "_model_name": "LayoutModel",
       "_view_count": null,
       "_view_module": "@jupyter-widgets/base",
       "_view_module_version": "2.0.0",
       "_view_name": "LayoutView",
       "align_content": null,
       "align_items": null,
       "align_self": null,
       "border_bottom": null,
       "border_left": null,
       "border_right": null,
       "border_top": null,
       "bottom": null,
       "display": null,
       "flex": null,
       "flex_flow": null,
       "grid_area": null,
       "grid_auto_columns": null,
       "grid_auto_flow": null,
       "grid_auto_rows": null,
       "grid_column": null,
       "grid_gap": null,
       "grid_row": null,
       "grid_template_areas": null,
       "grid_template_columns": null,
       "grid_template_rows": null,
       "height": null,
       "justify_content": null,
       "justify_items": null,
       "left": null,
       "margin": null,
       "max_height": null,
       "max_width": null,
       "min_height": null,
       "min_width": null,
       "object_fit": null,
       "object_position": null,
       "order": null,
       "overflow": null,
       "padding": null,
       "right": null,
       "top": null,
       "visibility": null,
       "width": null
      }
     },
     "33ce01fd8d8e4e87a671934406da6c30": {
      "model_module": "@jupyter-widgets/controls",
      "model_module_version": "2.0.0",
      "model_name": "HTMLModel",
      "state": {
       "_dom_classes": [],
       "_model_module": "@jupyter-widgets/controls",
       "_model_module_version": "2.0.0",
       "_model_name": "HTMLModel",
       "_view_count": null,
       "_view_module": "@jupyter-widgets/controls",
       "_view_module_version": "2.0.0",
       "_view_name": "HTMLView",
       "description": "",
       "description_allow_html": false,
       "layout": "IPY_MODEL_7c05857183f24f6fb5662abf614d820a",
       "placeholder": "​",
       "style": "IPY_MODEL_0fd05fee7594458b9da55f526273ef6b",
       "tabbable": null,
       "tooltip": null,
       "value": " 6/6 [00:04&lt;00:00,  1.28it/s]"
      }
     },
     "7c05857183f24f6fb5662abf614d820a": {
      "model_module": "@jupyter-widgets/base",
      "model_module_version": "2.0.0",
      "model_name": "LayoutModel",
      "state": {
       "_model_module": "@jupyter-widgets/base",
       "_model_module_version": "2.0.0",
       "_model_name": "LayoutModel",
       "_view_count": null,
       "_view_module": "@jupyter-widgets/base",
       "_view_module_version": "2.0.0",
       "_view_name": "LayoutView",
       "align_content": null,
       "align_items": null,
       "align_self": null,
       "border_bottom": null,
       "border_left": null,
       "border_right": null,
       "border_top": null,
       "bottom": null,
       "display": null,
       "flex": null,
       "flex_flow": null,
       "grid_area": null,
       "grid_auto_columns": null,
       "grid_auto_flow": null,
       "grid_auto_rows": null,
       "grid_column": null,
       "grid_gap": null,
       "grid_row": null,
       "grid_template_areas": null,
       "grid_template_columns": null,
       "grid_template_rows": null,
       "height": null,
       "justify_content": null,
       "justify_items": null,
       "left": null,
       "margin": null,
       "max_height": null,
       "max_width": null,
       "min_height": null,
       "min_width": null,
       "object_fit": null,
       "object_position": null,
       "order": null,
       "overflow": null,
       "padding": null,
       "right": null,
       "top": null,
       "visibility": null,
       "width": null
      }
     },
     "926aae7737514be187fcc56e7b4e85b4": {
      "model_module": "@jupyter-widgets/controls",
      "model_module_version": "2.0.0",
      "model_name": "FloatProgressModel",
      "state": {
       "_dom_classes": [],
       "_model_module": "@jupyter-widgets/controls",
       "_model_module_version": "2.0.0",
       "_model_name": "FloatProgressModel",
       "_view_count": null,
       "_view_module": "@jupyter-widgets/controls",
       "_view_module_version": "2.0.0",
       "_view_name": "ProgressView",
       "bar_style": "success",
       "description": "",
       "description_allow_html": false,
       "layout": "IPY_MODEL_b13a7dc8d3034844890cf9a2d2aaf2da",
       "max": 6,
       "min": 0,
       "orientation": "horizontal",
       "style": "IPY_MODEL_23f16261c9e740febcc129b8d82fdf86",
       "tabbable": null,
       "tooltip": null,
       "value": 6
      }
     },
     "b13a7dc8d3034844890cf9a2d2aaf2da": {
      "model_module": "@jupyter-widgets/base",
      "model_module_version": "2.0.0",
      "model_name": "LayoutModel",
      "state": {
       "_model_module": "@jupyter-widgets/base",
       "_model_module_version": "2.0.0",
       "_model_name": "LayoutModel",
       "_view_count": null,
       "_view_module": "@jupyter-widgets/base",
       "_view_module_version": "2.0.0",
       "_view_name": "LayoutView",
       "align_content": null,
       "align_items": null,
       "align_self": null,
       "border_bottom": null,
       "border_left": null,
       "border_right": null,
       "border_top": null,
       "bottom": null,
       "display": null,
       "flex": null,
       "flex_flow": null,
       "grid_area": null,
       "grid_auto_columns": null,
       "grid_auto_flow": null,
       "grid_auto_rows": null,
       "grid_column": null,
       "grid_gap": null,
       "grid_row": null,
       "grid_template_areas": null,
       "grid_template_columns": null,
       "grid_template_rows": null,
       "height": null,
       "justify_content": null,
       "justify_items": null,
       "left": null,
       "margin": null,
       "max_height": null,
       "max_width": null,
       "min_height": null,
       "min_width": null,
       "object_fit": null,
       "object_position": null,
       "order": null,
       "overflow": null,
       "padding": null,
       "right": null,
       "top": null,
       "visibility": null,
       "width": null
      }
     },
     "ba2f1ba1ffb54f12a04ae7220312c0f2": {
      "model_module": "@jupyter-widgets/base",
      "model_module_version": "2.0.0",
      "model_name": "LayoutModel",
      "state": {
       "_model_module": "@jupyter-widgets/base",
       "_model_module_version": "2.0.0",
       "_model_name": "LayoutModel",
       "_view_count": null,
       "_view_module": "@jupyter-widgets/base",
       "_view_module_version": "2.0.0",
       "_view_name": "LayoutView",
       "align_content": null,
       "align_items": null,
       "align_self": null,
       "border_bottom": null,
       "border_left": null,
       "border_right": null,
       "border_top": null,
       "bottom": null,
       "display": null,
       "flex": null,
       "flex_flow": null,
       "grid_area": null,
       "grid_auto_columns": null,
       "grid_auto_flow": null,
       "grid_auto_rows": null,
       "grid_column": null,
       "grid_gap": null,
       "grid_row": null,
       "grid_template_areas": null,
       "grid_template_columns": null,
       "grid_template_rows": null,
       "height": null,
       "justify_content": null,
       "justify_items": null,
       "left": null,
       "margin": null,
       "max_height": null,
       "max_width": null,
       "min_height": null,
       "min_width": null,
       "object_fit": null,
       "object_position": null,
       "order": null,
       "overflow": null,
       "padding": null,
       "right": null,
       "top": null,
       "visibility": null,
       "width": null
      }
     },
     "cef78183666047afa59e4c21bee40551": {
      "model_module": "@jupyter-widgets/controls",
      "model_module_version": "2.0.0",
      "model_name": "HBoxModel",
      "state": {
       "_dom_classes": [],
       "_model_module": "@jupyter-widgets/controls",
       "_model_module_version": "2.0.0",
       "_model_name": "HBoxModel",
       "_view_count": null,
       "_view_module": "@jupyter-widgets/controls",
       "_view_module_version": "2.0.0",
       "_view_name": "HBoxView",
       "box_style": "",
       "children": [
        "IPY_MODEL_f491227d22834e91b3d5528e31b56156",
        "IPY_MODEL_926aae7737514be187fcc56e7b4e85b4",
        "IPY_MODEL_33ce01fd8d8e4e87a671934406da6c30"
       ],
       "layout": "IPY_MODEL_ba2f1ba1ffb54f12a04ae7220312c0f2",
       "tabbable": null,
       "tooltip": null
      }
     },
     "d07fa54de76f4df78ea62b6fa204b89b": {
      "model_module": "@jupyter-widgets/controls",
      "model_module_version": "2.0.0",
      "model_name": "HTMLStyleModel",
      "state": {
       "_model_module": "@jupyter-widgets/controls",
       "_model_module_version": "2.0.0",
       "_model_name": "HTMLStyleModel",
       "_view_count": null,
       "_view_module": "@jupyter-widgets/base",
       "_view_module_version": "2.0.0",
       "_view_name": "StyleView",
       "background": null,
       "description_width": "",
       "font_size": null,
       "text_color": null
      }
     },
     "f491227d22834e91b3d5528e31b56156": {
      "model_module": "@jupyter-widgets/controls",
      "model_module_version": "2.0.0",
      "model_name": "HTMLModel",
      "state": {
       "_dom_classes": [],
       "_model_module": "@jupyter-widgets/controls",
       "_model_module_version": "2.0.0",
       "_model_name": "HTMLModel",
       "_view_count": null,
       "_view_module": "@jupyter-widgets/controls",
       "_view_module_version": "2.0.0",
       "_view_name": "HTMLView",
       "description": "",
       "description_allow_html": false,
       "layout": "IPY_MODEL_2656575751c74be9aa9f9b01839d3aeb",
       "placeholder": "​",
       "style": "IPY_MODEL_d07fa54de76f4df78ea62b6fa204b89b",
       "tabbable": null,
       "tooltip": null,
       "value": "Loading checkpoint shards: 100%"
      }
     }
    },
    "version_major": 2,
    "version_minor": 0
   }
  }
 },
 "nbformat": 4,
 "nbformat_minor": 2
}
