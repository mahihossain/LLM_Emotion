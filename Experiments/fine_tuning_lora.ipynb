{
 "cells": [
  {
   "cell_type": "code",
   "execution_count": 1,
   "metadata": {
    "execution": {
     "iopub.execute_input": "2024-02-29T08:57:52.145470Z",
     "iopub.status.busy": "2024-02-29T08:57:52.145035Z",
     "iopub.status.idle": "2024-02-29T08:57:56.286309Z",
     "shell.execute_reply": "2024-02-29T08:57:56.285321Z"
    }
   },
   "outputs": [
    {
     "name": "stderr",
     "output_type": "stream",
     "text": [
      "/usr/local/lib/python3.10/dist-packages/trl/trainer/ppo_config.py:141: UserWarning: The `optimize_cuda_cache` arguement will be deprecated soon, please use `optimize_device_cache` instead.\n",
      "  warnings.warn(\n"
     ]
    }
   ],
   "source": [
    "# It is based on LoRA paper: https://arxiv.org/abs/2106.09685\n",
    "\n",
    "import json\n",
    "import os\n",
    "from pprint import pprint\n",
    "import bitsandbytes as bnb\n",
    "import torch\n",
    "import torch.nn as nn\n",
    "import transformers\n",
    "from datasets import load_dataset\n",
    "from huggingface_hub import notebook_login\n",
    "from peft import (\n",
    "    LoraConfig,\n",
    "    PeftConfig,\n",
    "    PeftModel,\n",
    "    get_peft_model,\n",
    "    prepare_model_for_kbit_training\n",
    ")\n",
    "from transformers import (\n",
    "    AutoConfig,\n",
    "    AutoModelForCausalLM,\n",
    "    AutoTokenizer,\n",
    "    BitsAndBytesConfig,\n",
    "    IntervalStrategy,\n",
    ")\n",
    "\n",
    "from trl import SFTTrainer"
   ]
  },
  {
   "cell_type": "code",
   "execution_count": 2,
   "metadata": {
    "execution": {
     "iopub.execute_input": "2024-02-29T08:57:56.319166Z",
     "iopub.status.busy": "2024-02-29T08:57:56.318244Z",
     "iopub.status.idle": "2024-02-29T08:58:01.868664Z",
     "shell.execute_reply": "2024-02-29T08:58:01.867794Z"
    }
   },
   "outputs": [
    {
     "data": {
      "application/vnd.jupyter.widget-view+json": {
       "model_id": "3a8fdffad29b4a28a4cf2205eae6c86e",
       "version_major": 2,
       "version_minor": 0
      },
      "text/plain": [
       "Loading checkpoint shards:   0%|          | 0/6 [00:00<?, ?it/s]"
      ]
     },
     "metadata": {},
     "output_type": "display_data"
    }
   ],
   "source": [
    "MODEL_NAME = \"../models/Llama-2-7b-chat-hf/\"\n",
    "\n",
    "model = AutoModelForCausalLM.from_pretrained(MODEL_NAME, device_map=\"auto\")\n",
    "tokenizer = AutoTokenizer.from_pretrained(MODEL_NAME, trust_remote_code=True)\n",
    "tokenizer.pad_token = tokenizer.eos_token\n",
    "tokenizer.padding_side = \"right\""
   ]
  },
  {
   "cell_type": "code",
   "execution_count": 3,
   "metadata": {
    "execution": {
     "iopub.execute_input": "2024-02-29T08:58:01.871544Z",
     "iopub.status.busy": "2024-02-29T08:58:01.870959Z",
     "iopub.status.idle": "2024-02-29T08:58:01.874756Z",
     "shell.execute_reply": "2024-02-29T08:58:01.874222Z"
    }
   },
   "outputs": [],
   "source": [
    "def print_trainable_parameters(model):\n",
    "  \"\"\"\n",
    "  Prints the number of trainable parameters in the model.\n",
    "  \"\"\"\n",
    "  trainable_params = 0\n",
    "  all_param = 0\n",
    "  for _, param in model.named_parameters():\n",
    "    all_param += param.numel()\n",
    "    if param.requires_grad:\n",
    "      trainable_params += param.numel()\n",
    "  print(\n",
    "      f\"trainable params: {trainable_params} || all params: {all_param} || trainables%: {100 * trainable_params / all_param}\"\n",
    "  )"
   ]
  },
  {
   "cell_type": "code",
   "execution_count": 4,
   "metadata": {
    "execution": {
     "iopub.execute_input": "2024-02-29T08:58:01.876979Z",
     "iopub.status.busy": "2024-02-29T08:58:01.876559Z",
     "iopub.status.idle": "2024-02-29T08:58:01.882972Z",
     "shell.execute_reply": "2024-02-29T08:58:01.882396Z"
    }
   },
   "outputs": [],
   "source": [
    "model.gradient_checkpointing_enable()\n",
    "model = prepare_model_for_kbit_training(model)"
   ]
  },
  {
   "cell_type": "code",
   "execution_count": 5,
   "metadata": {
    "execution": {
     "iopub.execute_input": "2024-02-29T08:58:01.885142Z",
     "iopub.status.busy": "2024-02-29T08:58:01.884731Z",
     "iopub.status.idle": "2024-02-29T08:58:01.967023Z",
     "shell.execute_reply": "2024-02-29T08:58:01.966126Z"
    }
   },
   "outputs": [
    {
     "name": "stdout",
     "output_type": "stream",
     "text": [
      "trainable params: 4194304 || all params: 6742609920 || trainables%: 0.06220594176090199\n"
     ]
    }
   ],
   "source": [
    "config = LoraConfig(\n",
    "    lora_alpha=16,\n",
    "    lora_dropout=0.1,\n",
    "    r=8,\n",
    "    bias=\"none\",\n",
    "    task_type=\"CAUSAL_LM\"\n",
    ")\n",
    "\n",
    "model.modules()\n",
    "\n",
    "model = get_peft_model(model, config)\n",
    "print_trainable_parameters(model)"
   ]
  },
  {
   "cell_type": "code",
   "execution_count": 6,
   "metadata": {
    "execution": {
     "iopub.execute_input": "2024-02-29T08:58:01.969501Z",
     "iopub.status.busy": "2024-02-29T08:58:01.969084Z",
     "iopub.status.idle": "2024-02-29T08:58:08.607758Z",
     "shell.execute_reply": "2024-02-29T08:58:08.606902Z"
    }
   },
   "outputs": [],
   "source": [
    "data = load_dataset(\"csv\", data_files=\"../data/train_person_10.csv\")"
   ]
  },
  {
   "cell_type": "code",
   "execution_count": 7,
   "metadata": {
    "execution": {
     "iopub.execute_input": "2024-02-29T08:58:08.610547Z",
     "iopub.status.busy": "2024-02-29T08:58:08.610358Z",
     "iopub.status.idle": "2024-02-29T08:58:08.614249Z",
     "shell.execute_reply": "2024-02-29T08:58:08.613697Z"
    }
   },
   "outputs": [
    {
     "data": {
      "text/plain": [
       "DatasetDict({\n",
       "    train: Dataset({\n",
       "        features: ['EmotionRegulation1', 'session', 'context', 'User'],\n",
       "        num_rows: 10303\n",
       "    })\n",
       "})"
      ]
     },
     "execution_count": 7,
     "metadata": {},
     "output_type": "execute_result"
    }
   ],
   "source": [
    "data"
   ]
  },
  {
   "cell_type": "code",
   "execution_count": 8,
   "metadata": {
    "execution": {
     "iopub.execute_input": "2024-02-29T08:58:08.616582Z",
     "iopub.status.busy": "2024-02-29T08:58:08.616075Z",
     "iopub.status.idle": "2024-02-29T08:58:08.620126Z",
     "shell.execute_reply": "2024-02-29T08:58:08.619546Z"
    }
   },
   "outputs": [
    {
     "data": {
      "text/plain": [
       "{'EmotionRegulation1': '\"REST\"',\n",
       " 'session': 'VPN01',\n",
       " 'context': 'There are 8 classes of non-verbal behaviour with sub-classes that you can use in your analysis. In brackets are the short explanations of the meaning of each behaviour:\\n- Gaze: DOWN (looking down), DOWN_LEFT (looking down left), DOWN_RIGHT (looking down right), LEFT (looking left), RIGHT (looking right), STRAIGHT AT INTERVIEWER (looking straight at interviewer), UP (looking up), UP_LEFT (looking up left), UP_RIGHT (looking up right).\\n- Eyes: PINCH (eyes are squeezed together), BLINK_REPEATEDLY (person blinks more than once in a row), CLOSE (eyes are closed), WIDEN (person widens eyes)\\n- Ekman expression: FEAR (the person shows the typical characteristics of the Ekman expression fear), DISGUST (the person shows the typical characteristics of the Ekman expression disgust), JOY (the person shows the typical characteristics of the Ekman expression joy), SURPRISE (the person shows the typical characteristics of the Ekman expression surprise)\\n- Smile: DUCHENNE (a smile that reaches the eyes), NON_DUCHENNE (a smile that concentrates only on the mouth)\\n- Head: SHAKE (the head is moved alternately to the right and left), NOD (the head is moved down and then up), DOWN_RIGHT (the head is moved down to the right), DOWN_LEFT (the head is moved down to the left), DOWN (the head is moved down), LEFT (the head is moved to the left), RIGHT (the head is moved to the right), STRAIGHT (the head is held straight), UP (the head is moved up)\\n- Head Tilt: TILT (the head is tilted to the side)\\n-UpperBody: BACKWARD (the upper body is moved backwards), FORWARD (the upper body is moved forwards), DIRECTED_AWAY (the person turns away), SHRUG (the person moves the shoulders up and down), SIDEAWAYS (the person moves the body to the left or right without turning), SLUMP (the person slumps down), STRAIGHT (the person stays straight)\\nSpeech: SPEECH (the person is speaking), FILLER (the person is saying filler words), BREATH (the person is breathing heavily), LAUGHTER (the person is laughing).\\n \\nFor all 8 classes of non-verbal behaviour, the subclass REST is also possible. This indicates that none of the other subclasses were detected.\\n\\nIn addition to the non-verbal behaviour, each row contains information about the person, the persons introspection and the context:\\n1. The subject who performed the behaviour (column named \\'session\\'). The \\'session\\' column contains 10 different subjects. VPN01 in the table corresponds to \\'Versuchsperson 1\\' and VPN02 corresponds to \\'Versuchsperson 2\\' and so on.\\n2. The situation in which it occurred (column called \\'Situation\\'). In the table, the value \\'situation 1\\' has been abbreviated to \\'S1\\' and the value \\'situation 2\\' to \\'S2\\'. \\n3. The mindedness of the person (column called \\'MindednessMean\\'). Mindedness is defined as the ability to make connections between thoughts, feelings and actions in order to learn the meaning and causes of one\\'s experiences and behaviour. Higher scores in this column indicate a greater ability to be mindful.\\n4. The person\\'s gender is male, female or rest.\\n5. The introspection of the person. This includes the following:\\n- ExperiencedEmotion1 and ExperiencedEmotion2- describes the experienced emotions\\n- ShameAwarenessSituation - \\'yes\\' means that the person was aware of feeling ashamed in the situation, \\'no\\' means that the person was not aware of feeling ashamed\\n- ShameAwarenessInterview - \\'yes\\' means that the person was aware of feeling ashamed in a later interview, \\'no\\' means that the person was not aware of feeling ashamed\\n- RuleDisplay - display rules are rules that define how emotions are communicated; the value \"Display_Rule\" mean that a display rule has been applied.\\n- RelationshipIntention - a person can have the intention to maintain or terminate the relationship with the interviewer, if both intentions are existing it is labeled as \\'unclear\\'\\n- InternalEmotion - following internal emotions are possible: REST (none of the following emotions could be detected), SHAME_SHYNESS, UNCLEAR (it is not clear which internal emotion it is), ENJOYMENT, GPA (=general positive affect), SURPRISE\\n- ShameDisplay - can be open or not open (regulated shame)\\n\\n\"EmotionRegulation1\" is the output class, that you should output when you get the context and user prompt that follows your training, this class has following properties:\\n\\n- WITHDRAWAL (The person acknowledges the experience as negative, accepts shame’s message as valid, and tries to withdraw or hide from the situation. The phenomenological experience is negative; emotions include shame, sadness, fear, and anxiety. )\\n\\n- ATTACK_OTHER (The person may – or may not – acknowledge the negative experience of self, typically does not accept shame’s message, and attempts are made to make someone else feel worse. The phenomenological experience is negative; anger is directed outward, perhaps toward the source of the shaming event.)\\n\\n- ATTACK_SELF (The person acknowledges the experience as negative, accepts shame’s message as valid, and turns anger inward. The phenomenological experience is negative; emotions include self-directed anger, contempt, or disgust, which magnify the impact of shame.)\\n\\n- AVOIDANCE (The person typically does not acknowledge the negative experience of self, typically does not accept shame’s message as valid (denial), and attempts are made to distract the self and others from the painful feeling. The phenomenological experience becomes neutral or positive; shame may be disavowed, or overridden with joy or excitement via distractions (e.g., sex).)\\n\\n- DEPRECIATION (devaluation of the other due to different values)\\n\\n- STABILIZE_SELF (focus on positive selfconcept,\\nact compliant with self-concept)\\n\\n- REST (no emotion regulation strategy could be identified) \\n\\n\\nHere is also the previous chat history, (where it is [Avatar] it means that it is the interviewer or the avatar, if not it is the subject, transcript: REST means that there was nothing spoken):',\n",
       " 'User': '\"Eyes: REST Gaze: STRAIGHT_AT_INTERVIEWER Head: STRAIGHT HeadTilt: REST Smile: REST Speech: REST UpperBody: STRAIGHT SmileControl: REST EkmanExpression: REST ExperiencedEmotion1: SHAME_SHYNESS ExperiencedEmotion2: SURPRISE InternalEmotion: GPA ShameAwarenessSituation: AWARE_OF_SHAME ShameAwarenessInterview: AWARE_OF_SHAME DisplayRule: REST RelationshipIntention: MAINTAIN_RELATIONSHIP MindednessMean: 4,75 Gender: FEMALE Situation: S1 transcript: REST\"'}"
      ]
     },
     "execution_count": 8,
     "metadata": {},
     "output_type": "execute_result"
    }
   ],
   "source": [
    "data[\"train\"][0]"
   ]
  },
  {
   "cell_type": "code",
   "execution_count": 9,
   "metadata": {
    "execution": {
     "iopub.execute_input": "2024-02-29T08:58:08.622424Z",
     "iopub.status.busy": "2024-02-29T08:58:08.621983Z",
     "iopub.status.idle": "2024-02-29T08:58:08.625405Z",
     "shell.execute_reply": "2024-02-29T08:58:08.624850Z"
    }
   },
   "outputs": [],
   "source": [
    "def generate_prompt(data_point):\n",
    "  return f\"\"\"\n",
    "<human>: {data_point[\"User\"]}\n",
    "<context>: {data_point[\"context\"]}\n",
    "<assistant>: {data_point[\"EmotionRegulation1\"]}\n",
    "\"\"\".strip()\n",
    "\n",
    "def generate_and_tokenize_prompt(data_point):\n",
    "  full_prompt = generate_prompt(data_point)\n",
    "  tokenized_full_prompt = tokenizer(full_prompt, padding=True, truncation=True)\n",
    "  return tokenized_full_prompt"
   ]
  },
  {
   "cell_type": "code",
   "execution_count": 10,
   "metadata": {
    "execution": {
     "iopub.execute_input": "2024-02-29T08:58:08.627545Z",
     "iopub.status.busy": "2024-02-29T08:58:08.627172Z",
     "iopub.status.idle": "2024-02-29T08:58:38.683001Z",
     "shell.execute_reply": "2024-02-29T08:58:38.682234Z"
    }
   },
   "outputs": [
    {
     "data": {
      "application/vnd.jupyter.widget-view+json": {
       "model_id": "f5ff6adc1f604609bbade4e22ac6c504",
       "version_major": 2,
       "version_minor": 0
      },
      "text/plain": [
       "Map:   0%|          | 0/10303 [00:00<?, ? examples/s]"
      ]
     },
     "metadata": {},
     "output_type": "display_data"
    },
    {
     "name": "stderr",
     "output_type": "stream",
     "text": [
      "Asking to truncate to max_length but no maximum length is provided and the model has no predefined maximum length. Default to no truncation.\n"
     ]
    }
   ],
   "source": [
    "data = data[\"train\"].shuffle().map(generate_and_tokenize_prompt)"
   ]
  },
  {
   "cell_type": "code",
   "execution_count": 11,
   "metadata": {
    "execution": {
     "iopub.execute_input": "2024-02-29T08:58:38.685899Z",
     "iopub.status.busy": "2024-02-29T08:58:38.685228Z",
     "iopub.status.idle": "2024-02-29T08:58:38.689783Z",
     "shell.execute_reply": "2024-02-29T08:58:38.689152Z"
    }
   },
   "outputs": [
    {
     "data": {
      "text/plain": [
       "Dataset({\n",
       "    features: ['EmotionRegulation1', 'session', 'context', 'User', 'input_ids', 'attention_mask'],\n",
       "    num_rows: 10303\n",
       "})"
      ]
     },
     "execution_count": 11,
     "metadata": {},
     "output_type": "execute_result"
    }
   ],
   "source": [
    "data"
   ]
  },
  {
   "cell_type": "code",
   "execution_count": 12,
   "metadata": {
    "execution": {
     "iopub.execute_input": "2024-02-29T08:58:38.692070Z",
     "iopub.status.busy": "2024-02-29T08:58:38.691655Z",
     "iopub.status.idle": "2024-02-29T08:58:38.694953Z",
     "shell.execute_reply": "2024-02-29T08:58:38.694329Z"
    }
   },
   "outputs": [],
   "source": [
    "import warnings\n",
    "\n",
    "# Proper regular expression to match the warning message\n",
    "warnings.filterwarnings(\"ignore\", message=\"torch.utils.checkpoint: please pass in use_reentrant=True or use_reentrant=False explicitly\")\n"
   ]
  },
  {
   "cell_type": "code",
   "execution_count": 13,
   "metadata": {
    "execution": {
     "iopub.execute_input": "2024-02-29T08:58:38.697330Z",
     "iopub.status.busy": "2024-02-29T08:58:38.696782Z",
     "iopub.status.idle": "2024-03-01T03:16:13.919477Z",
     "shell.execute_reply": "2024-03-01T03:16:13.918597Z"
    }
   },
   "outputs": [
    {
     "name": "stderr",
     "output_type": "stream",
     "text": [
      "Detected kernel version 4.18.0, which is below the recommended minimum of 5.5.0; this can cause the process to hang. It is recommended to upgrade the kernel to the minimum version or higher.\n",
      "You're using a LlamaTokenizerFast tokenizer. Please note that with a fast tokenizer, using the `__call__` method is faster than using a method to encode the text followed by a call to the `pad` method to get a padded encoding.\n"
     ]
    },
    {
     "data": {
      "text/html": [
       "\n",
       "    <div>\n",
       "      \n",
       "      <progress value='12880' max='12880' style='width:300px; height:20px; vertical-align: middle;'></progress>\n",
       "      [12880/12880 18:17:13, Epoch 5/5]\n",
       "    </div>\n",
       "    <table border=\"1\" class=\"dataframe\">\n",
       "  <thead>\n",
       " <tr style=\"text-align: left;\">\n",
       "      <th>Step</th>\n",
       "      <th>Training Loss</th>\n",
       "    </tr>\n",
       "  </thead>\n",
       "  <tbody>\n",
       "    <tr>\n",
       "      <td>2576</td>\n",
       "      <td>0.092500</td>\n",
       "    </tr>\n",
       "    <tr>\n",
       "      <td>5152</td>\n",
       "      <td>0.005000</td>\n",
       "    </tr>\n",
       "    <tr>\n",
       "      <td>7728</td>\n",
       "      <td>0.004200</td>\n",
       "    </tr>\n",
       "    <tr>\n",
       "      <td>10304</td>\n",
       "      <td>0.003700</td>\n",
       "    </tr>\n",
       "    <tr>\n",
       "      <td>12880</td>\n",
       "      <td>0.003500</td>\n",
       "    </tr>\n",
       "  </tbody>\n",
       "</table><p>"
      ],
      "text/plain": [
       "<IPython.core.display.HTML object>"
      ]
     },
     "metadata": {},
     "output_type": "display_data"
    },
    {
     "data": {
      "text/plain": [
       "TrainOutput(global_step=12880, training_loss=0.021783372185985493, metrics={'train_runtime': 65840.6021, 'train_samples_per_second': 0.782, 'train_steps_per_second': 0.196, 'total_flos': 3.8731570352724787e+18, 'train_loss': 0.021783372185985493, 'epoch': 5.0})"
      ]
     },
     "execution_count": 13,
     "metadata": {},
     "output_type": "execute_result"
    }
   ],
   "source": [
    "training_args = transformers.TrainingArguments(\n",
    "    output_dir=\"./saves\",\n",
    "    num_train_epochs=5,\n",
    "    per_device_train_batch_size=4,\n",
    "    gradient_accumulation_steps=1,\n",
    "    optim=\"paged_adamw_32bit\",\n",
    "    #save_strategy=\"epoch\",\n",
    "    save_strategy=IntervalStrategy.STEPS,  # change this line\n",
    "    save_total_limit=1,  # add this line\n",
    "    logging_strategy=\"epoch\",\n",
    "    logging_steps=1,\n",
    "    learning_rate=2e-4,\n",
    "    weight_decay=0.001,\n",
    "    fp16=False,\n",
    "    bf16=False,\n",
    "    max_grad_norm=0.3,\n",
    "    max_steps=-1,\n",
    "    warmup_ratio=0.03,\n",
    "    group_by_length=True,\n",
    "    lr_scheduler_type=\"cosine\",\n",
    ")\n",
    "\n",
    "trainer = transformers.Trainer(\n",
    "    model=model,\n",
    "    train_dataset=data,\n",
    "    args=training_args,\n",
    "    data_collator=transformers.DataCollatorForLanguageModeling(tokenizer, mlm=False)\n",
    ")\n",
    "model.config.use_cache = False\n",
    "trainer.train()"
   ]
  },
  {
   "cell_type": "code",
   "execution_count": 14,
   "metadata": {
    "execution": {
     "iopub.execute_input": "2024-03-01T03:16:13.922758Z",
     "iopub.status.busy": "2024-03-01T03:16:13.921885Z",
     "iopub.status.idle": "2024-03-01T03:16:13.971529Z",
     "shell.execute_reply": "2024-03-01T03:16:13.970541Z"
    }
   },
   "outputs": [],
   "source": [
    "model.save_pretrained(\"./models/llama-2-7b-chat-hf-llm-emo-person-10-finetuned-peft/\")"
   ]
  }
 ],
 "metadata": {
  "kernelspec": {
   "display_name": "Python 3",
   "language": "python",
   "name": "python3"
  },
  "language_info": {
   "codemirror_mode": {
    "name": "ipython",
    "version": 3
   },
   "file_extension": ".py",
   "mimetype": "text/x-python",
   "name": "python",
   "nbconvert_exporter": "python",
   "pygments_lexer": "ipython3",
   "version": "3.10.12"
  },
  "widgets": {
   "application/vnd.jupyter.widget-state+json": {
    "state": {
     "15d8cbc543634079aeda11c4bf0396c4": {
      "model_module": "@jupyter-widgets/base",
      "model_module_version": "2.0.0",
      "model_name": "LayoutModel",
      "state": {
       "_model_module": "@jupyter-widgets/base",
       "_model_module_version": "2.0.0",
       "_model_name": "LayoutModel",
       "_view_count": null,
       "_view_module": "@jupyter-widgets/base",
       "_view_module_version": "2.0.0",
       "_view_name": "LayoutView",
       "align_content": null,
       "align_items": null,
       "align_self": null,
       "border_bottom": null,
       "border_left": null,
       "border_right": null,
       "border_top": null,
       "bottom": null,
       "display": null,
       "flex": null,
       "flex_flow": null,
       "grid_area": null,
       "grid_auto_columns": null,
       "grid_auto_flow": null,
       "grid_auto_rows": null,
       "grid_column": null,
       "grid_gap": null,
       "grid_row": null,
       "grid_template_areas": null,
       "grid_template_columns": null,
       "grid_template_rows": null,
       "height": null,
       "justify_content": null,
       "justify_items": null,
       "left": null,
       "margin": null,
       "max_height": null,
       "max_width": null,
       "min_height": null,
       "min_width": null,
       "object_fit": null,
       "object_position": null,
       "order": null,
       "overflow": null,
       "padding": null,
       "right": null,
       "top": null,
       "visibility": null,
       "width": null
      }
     },
     "172df0b5438a45939f2725ba0ea521fb": {
      "model_module": "@jupyter-widgets/controls",
      "model_module_version": "2.0.0",
      "model_name": "FloatProgressModel",
      "state": {
       "_dom_classes": [],
       "_model_module": "@jupyter-widgets/controls",
       "_model_module_version": "2.0.0",
       "_model_name": "FloatProgressModel",
       "_view_count": null,
       "_view_module": "@jupyter-widgets/controls",
       "_view_module_version": "2.0.0",
       "_view_name": "ProgressView",
       "bar_style": "success",
       "description": "",
       "description_allow_html": false,
       "layout": "IPY_MODEL_bed15a5ebf5942ccb31f95590d8a2005",
       "max": 10303.0,
       "min": 0.0,
       "orientation": "horizontal",
       "style": "IPY_MODEL_283f9e1be5d14a439df616a423b31f98",
       "tabbable": null,
       "tooltip": null,
       "value": 10303.0
      }
     },
     "25125d390d8b400fa86ce94cf1ee2f2c": {
      "model_module": "@jupyter-widgets/base",
      "model_module_version": "2.0.0",
      "model_name": "LayoutModel",
      "state": {
       "_model_module": "@jupyter-widgets/base",
       "_model_module_version": "2.0.0",
       "_model_name": "LayoutModel",
       "_view_count": null,
       "_view_module": "@jupyter-widgets/base",
       "_view_module_version": "2.0.0",
       "_view_name": "LayoutView",
       "align_content": null,
       "align_items": null,
       "align_self": null,
       "border_bottom": null,
       "border_left": null,
       "border_right": null,
       "border_top": null,
       "bottom": null,
       "display": null,
       "flex": null,
       "flex_flow": null,
       "grid_area": null,
       "grid_auto_columns": null,
       "grid_auto_flow": null,
       "grid_auto_rows": null,
       "grid_column": null,
       "grid_gap": null,
       "grid_row": null,
       "grid_template_areas": null,
       "grid_template_columns": null,
       "grid_template_rows": null,
       "height": null,
       "justify_content": null,
       "justify_items": null,
       "left": null,
       "margin": null,
       "max_height": null,
       "max_width": null,
       "min_height": null,
       "min_width": null,
       "object_fit": null,
       "object_position": null,
       "order": null,
       "overflow": null,
       "padding": null,
       "right": null,
       "top": null,
       "visibility": null,
       "width": null
      }
     },
     "283f9e1be5d14a439df616a423b31f98": {
      "model_module": "@jupyter-widgets/controls",
      "model_module_version": "2.0.0",
      "model_name": "ProgressStyleModel",
      "state": {
       "_model_module": "@jupyter-widgets/controls",
       "_model_module_version": "2.0.0",
       "_model_name": "ProgressStyleModel",
       "_view_count": null,
       "_view_module": "@jupyter-widgets/base",
       "_view_module_version": "2.0.0",
       "_view_name": "StyleView",
       "bar_color": null,
       "description_width": ""
      }
     },
     "3a8fdffad29b4a28a4cf2205eae6c86e": {
      "model_module": "@jupyter-widgets/controls",
      "model_module_version": "2.0.0",
      "model_name": "HBoxModel",
      "state": {
       "_dom_classes": [],
       "_model_module": "@jupyter-widgets/controls",
       "_model_module_version": "2.0.0",
       "_model_name": "HBoxModel",
       "_view_count": null,
       "_view_module": "@jupyter-widgets/controls",
       "_view_module_version": "2.0.0",
       "_view_name": "HBoxView",
       "box_style": "",
       "children": [
        "IPY_MODEL_cc3a512c200041769b2e0c534731738d",
        "IPY_MODEL_80775a49802a45999d238b4c30d123b8",
        "IPY_MODEL_5f595a2455c5486e9ad3239862db1dc9"
       ],
       "layout": "IPY_MODEL_fbbb403b69a343cdb5adf4604b0604b6",
       "tabbable": null,
       "tooltip": null
      }
     },
     "3bff7d8e5ba6497d9b26dfc6be042e82": {
      "model_module": "@jupyter-widgets/base",
      "model_module_version": "2.0.0",
      "model_name": "LayoutModel",
      "state": {
       "_model_module": "@jupyter-widgets/base",
       "_model_module_version": "2.0.0",
       "_model_name": "LayoutModel",
       "_view_count": null,
       "_view_module": "@jupyter-widgets/base",
       "_view_module_version": "2.0.0",
       "_view_name": "LayoutView",
       "align_content": null,
       "align_items": null,
       "align_self": null,
       "border_bottom": null,
       "border_left": null,
       "border_right": null,
       "border_top": null,
       "bottom": null,
       "display": null,
       "flex": null,
       "flex_flow": null,
       "grid_area": null,
       "grid_auto_columns": null,
       "grid_auto_flow": null,
       "grid_auto_rows": null,
       "grid_column": null,
       "grid_gap": null,
       "grid_row": null,
       "grid_template_areas": null,
       "grid_template_columns": null,
       "grid_template_rows": null,
       "height": null,
       "justify_content": null,
       "justify_items": null,
       "left": null,
       "margin": null,
       "max_height": null,
       "max_width": null,
       "min_height": null,
       "min_width": null,
       "object_fit": null,
       "object_position": null,
       "order": null,
       "overflow": null,
       "padding": null,
       "right": null,
       "top": null,
       "visibility": null,
       "width": null
      }
     },
     "5f595a2455c5486e9ad3239862db1dc9": {
      "model_module": "@jupyter-widgets/controls",
      "model_module_version": "2.0.0",
      "model_name": "HTMLModel",
      "state": {
       "_dom_classes": [],
       "_model_module": "@jupyter-widgets/controls",
       "_model_module_version": "2.0.0",
       "_model_name": "HTMLModel",
       "_view_count": null,
       "_view_module": "@jupyter-widgets/controls",
       "_view_module_version": "2.0.0",
       "_view_name": "HTMLView",
       "description": "",
       "description_allow_html": false,
       "layout": "IPY_MODEL_c7ac05f8893644889cb58bb4edb51410",
       "placeholder": "​",
       "style": "IPY_MODEL_ae9ef8306fe944ea8b15168e575c6d80",
       "tabbable": null,
       "tooltip": null,
       "value": " 6/6 [00:05&lt;00:00,  1.25it/s]"
      }
     },
     "80775a49802a45999d238b4c30d123b8": {
      "model_module": "@jupyter-widgets/controls",
      "model_module_version": "2.0.0",
      "model_name": "FloatProgressModel",
      "state": {
       "_dom_classes": [],
       "_model_module": "@jupyter-widgets/controls",
       "_model_module_version": "2.0.0",
       "_model_name": "FloatProgressModel",
       "_view_count": null,
       "_view_module": "@jupyter-widgets/controls",
       "_view_module_version": "2.0.0",
       "_view_name": "ProgressView",
       "bar_style": "success",
       "description": "",
       "description_allow_html": false,
       "layout": "IPY_MODEL_15d8cbc543634079aeda11c4bf0396c4",
       "max": 6.0,
       "min": 0.0,
       "orientation": "horizontal",
       "style": "IPY_MODEL_ac5fbb3aa85b481a9d33f0d82a38b9a4",
       "tabbable": null,
       "tooltip": null,
       "value": 6.0
      }
     },
     "891df84cfb9e493f876e5dcb21c5b9b6": {
      "model_module": "@jupyter-widgets/controls",
      "model_module_version": "2.0.0",
      "model_name": "HTMLStyleModel",
      "state": {
       "_model_module": "@jupyter-widgets/controls",
       "_model_module_version": "2.0.0",
       "_model_name": "HTMLStyleModel",
       "_view_count": null,
       "_view_module": "@jupyter-widgets/base",
       "_view_module_version": "2.0.0",
       "_view_name": "StyleView",
       "background": null,
       "description_width": "",
       "font_size": null,
       "text_color": null
      }
     },
     "9ddf2e3d89b944cf95e7d1db3788f979": {
      "model_module": "@jupyter-widgets/controls",
      "model_module_version": "2.0.0",
      "model_name": "HTMLStyleModel",
      "state": {
       "_model_module": "@jupyter-widgets/controls",
       "_model_module_version": "2.0.0",
       "_model_name": "HTMLStyleModel",
       "_view_count": null,
       "_view_module": "@jupyter-widgets/base",
       "_view_module_version": "2.0.0",
       "_view_name": "StyleView",
       "background": null,
       "description_width": "",
       "font_size": null,
       "text_color": null
      }
     },
     "a380d479089349f885c520a90bcacf0f": {
      "model_module": "@jupyter-widgets/base",
      "model_module_version": "2.0.0",
      "model_name": "LayoutModel",
      "state": {
       "_model_module": "@jupyter-widgets/base",
       "_model_module_version": "2.0.0",
       "_model_name": "LayoutModel",
       "_view_count": null,
       "_view_module": "@jupyter-widgets/base",
       "_view_module_version": "2.0.0",
       "_view_name": "LayoutView",
       "align_content": null,
       "align_items": null,
       "align_self": null,
       "border_bottom": null,
       "border_left": null,
       "border_right": null,
       "border_top": null,
       "bottom": null,
       "display": null,
       "flex": null,
       "flex_flow": null,
       "grid_area": null,
       "grid_auto_columns": null,
       "grid_auto_flow": null,
       "grid_auto_rows": null,
       "grid_column": null,
       "grid_gap": null,
       "grid_row": null,
       "grid_template_areas": null,
       "grid_template_columns": null,
       "grid_template_rows": null,
       "height": null,
       "justify_content": null,
       "justify_items": null,
       "left": null,
       "margin": null,
       "max_height": null,
       "max_width": null,
       "min_height": null,
       "min_width": null,
       "object_fit": null,
       "object_position": null,
       "order": null,
       "overflow": null,
       "padding": null,
       "right": null,
       "top": null,
       "visibility": null,
       "width": null
      }
     },
     "ac5fbb3aa85b481a9d33f0d82a38b9a4": {
      "model_module": "@jupyter-widgets/controls",
      "model_module_version": "2.0.0",
      "model_name": "ProgressStyleModel",
      "state": {
       "_model_module": "@jupyter-widgets/controls",
       "_model_module_version": "2.0.0",
       "_model_name": "ProgressStyleModel",
       "_view_count": null,
       "_view_module": "@jupyter-widgets/base",
       "_view_module_version": "2.0.0",
       "_view_name": "StyleView",
       "bar_color": null,
       "description_width": ""
      }
     },
     "ae9ef8306fe944ea8b15168e575c6d80": {
      "model_module": "@jupyter-widgets/controls",
      "model_module_version": "2.0.0",
      "model_name": "HTMLStyleModel",
      "state": {
       "_model_module": "@jupyter-widgets/controls",
       "_model_module_version": "2.0.0",
       "_model_name": "HTMLStyleModel",
       "_view_count": null,
       "_view_module": "@jupyter-widgets/base",
       "_view_module_version": "2.0.0",
       "_view_name": "StyleView",
       "background": null,
       "description_width": "",
       "font_size": null,
       "text_color": null
      }
     },
     "b39fd52f85264bd3b00fd737fa2bcfab": {
      "model_module": "@jupyter-widgets/base",
      "model_module_version": "2.0.0",
      "model_name": "LayoutModel",
      "state": {
       "_model_module": "@jupyter-widgets/base",
       "_model_module_version": "2.0.0",
       "_model_name": "LayoutModel",
       "_view_count": null,
       "_view_module": "@jupyter-widgets/base",
       "_view_module_version": "2.0.0",
       "_view_name": "LayoutView",
       "align_content": null,
       "align_items": null,
       "align_self": null,
       "border_bottom": null,
       "border_left": null,
       "border_right": null,
       "border_top": null,
       "bottom": null,
       "display": null,
       "flex": null,
       "flex_flow": null,
       "grid_area": null,
       "grid_auto_columns": null,
       "grid_auto_flow": null,
       "grid_auto_rows": null,
       "grid_column": null,
       "grid_gap": null,
       "grid_row": null,
       "grid_template_areas": null,
       "grid_template_columns": null,
       "grid_template_rows": null,
       "height": null,
       "justify_content": null,
       "justify_items": null,
       "left": null,
       "margin": null,
       "max_height": null,
       "max_width": null,
       "min_height": null,
       "min_width": null,
       "object_fit": null,
       "object_position": null,
       "order": null,
       "overflow": null,
       "padding": null,
       "right": null,
       "top": null,
       "visibility": null,
       "width": null
      }
     },
     "bed15a5ebf5942ccb31f95590d8a2005": {
      "model_module": "@jupyter-widgets/base",
      "model_module_version": "2.0.0",
      "model_name": "LayoutModel",
      "state": {
       "_model_module": "@jupyter-widgets/base",
       "_model_module_version": "2.0.0",
       "_model_name": "LayoutModel",
       "_view_count": null,
       "_view_module": "@jupyter-widgets/base",
       "_view_module_version": "2.0.0",
       "_view_name": "LayoutView",
       "align_content": null,
       "align_items": null,
       "align_self": null,
       "border_bottom": null,
       "border_left": null,
       "border_right": null,
       "border_top": null,
       "bottom": null,
       "display": null,
       "flex": null,
       "flex_flow": null,
       "grid_area": null,
       "grid_auto_columns": null,
       "grid_auto_flow": null,
       "grid_auto_rows": null,
       "grid_column": null,
       "grid_gap": null,
       "grid_row": null,
       "grid_template_areas": null,
       "grid_template_columns": null,
       "grid_template_rows": null,
       "height": null,
       "justify_content": null,
       "justify_items": null,
       "left": null,
       "margin": null,
       "max_height": null,
       "max_width": null,
       "min_height": null,
       "min_width": null,
       "object_fit": null,
       "object_position": null,
       "order": null,
       "overflow": null,
       "padding": null,
       "right": null,
       "top": null,
       "visibility": null,
       "width": null
      }
     },
     "c150907f219644258b053050d36a285b": {
      "model_module": "@jupyter-widgets/controls",
      "model_module_version": "2.0.0",
      "model_name": "HTMLModel",
      "state": {
       "_dom_classes": [],
       "_model_module": "@jupyter-widgets/controls",
       "_model_module_version": "2.0.0",
       "_model_name": "HTMLModel",
       "_view_count": null,
       "_view_module": "@jupyter-widgets/controls",
       "_view_module_version": "2.0.0",
       "_view_name": "HTMLView",
       "description": "",
       "description_allow_html": false,
       "layout": "IPY_MODEL_b39fd52f85264bd3b00fd737fa2bcfab",
       "placeholder": "​",
       "style": "IPY_MODEL_891df84cfb9e493f876e5dcb21c5b9b6",
       "tabbable": null,
       "tooltip": null,
       "value": " 10303/10303 [00:30&lt;00:00, 364.39 examples/s]"
      }
     },
     "c7ac05f8893644889cb58bb4edb51410": {
      "model_module": "@jupyter-widgets/base",
      "model_module_version": "2.0.0",
      "model_name": "LayoutModel",
      "state": {
       "_model_module": "@jupyter-widgets/base",
       "_model_module_version": "2.0.0",
       "_model_name": "LayoutModel",
       "_view_count": null,
       "_view_module": "@jupyter-widgets/base",
       "_view_module_version": "2.0.0",
       "_view_name": "LayoutView",
       "align_content": null,
       "align_items": null,
       "align_self": null,
       "border_bottom": null,
       "border_left": null,
       "border_right": null,
       "border_top": null,
       "bottom": null,
       "display": null,
       "flex": null,
       "flex_flow": null,
       "grid_area": null,
       "grid_auto_columns": null,
       "grid_auto_flow": null,
       "grid_auto_rows": null,
       "grid_column": null,
       "grid_gap": null,
       "grid_row": null,
       "grid_template_areas": null,
       "grid_template_columns": null,
       "grid_template_rows": null,
       "height": null,
       "justify_content": null,
       "justify_items": null,
       "left": null,
       "margin": null,
       "max_height": null,
       "max_width": null,
       "min_height": null,
       "min_width": null,
       "object_fit": null,
       "object_position": null,
       "order": null,
       "overflow": null,
       "padding": null,
       "right": null,
       "top": null,
       "visibility": null,
       "width": null
      }
     },
     "cc3a512c200041769b2e0c534731738d": {
      "model_module": "@jupyter-widgets/controls",
      "model_module_version": "2.0.0",
      "model_name": "HTMLModel",
      "state": {
       "_dom_classes": [],
       "_model_module": "@jupyter-widgets/controls",
       "_model_module_version": "2.0.0",
       "_model_name": "HTMLModel",
       "_view_count": null,
       "_view_module": "@jupyter-widgets/controls",
       "_view_module_version": "2.0.0",
       "_view_name": "HTMLView",
       "description": "",
       "description_allow_html": false,
       "layout": "IPY_MODEL_a380d479089349f885c520a90bcacf0f",
       "placeholder": "​",
       "style": "IPY_MODEL_9ddf2e3d89b944cf95e7d1db3788f979",
       "tabbable": null,
       "tooltip": null,
       "value": "Loading checkpoint shards: 100%"
      }
     },
     "d9e80951f7e1475f9a27642e429b6bf9": {
      "model_module": "@jupyter-widgets/controls",
      "model_module_version": "2.0.0",
      "model_name": "HTMLModel",
      "state": {
       "_dom_classes": [],
       "_model_module": "@jupyter-widgets/controls",
       "_model_module_version": "2.0.0",
       "_model_name": "HTMLModel",
       "_view_count": null,
       "_view_module": "@jupyter-widgets/controls",
       "_view_module_version": "2.0.0",
       "_view_name": "HTMLView",
       "description": "",
       "description_allow_html": false,
       "layout": "IPY_MODEL_3bff7d8e5ba6497d9b26dfc6be042e82",
       "placeholder": "​",
       "style": "IPY_MODEL_de03778d135641cb8c525a9c33b693b9",
       "tabbable": null,
       "tooltip": null,
       "value": "Map: 100%"
      }
     },
     "de03778d135641cb8c525a9c33b693b9": {
      "model_module": "@jupyter-widgets/controls",
      "model_module_version": "2.0.0",
      "model_name": "HTMLStyleModel",
      "state": {
       "_model_module": "@jupyter-widgets/controls",
       "_model_module_version": "2.0.0",
       "_model_name": "HTMLStyleModel",
       "_view_count": null,
       "_view_module": "@jupyter-widgets/base",
       "_view_module_version": "2.0.0",
       "_view_name": "StyleView",
       "background": null,
       "description_width": "",
       "font_size": null,
       "text_color": null
      }
     },
     "f5ff6adc1f604609bbade4e22ac6c504": {
      "model_module": "@jupyter-widgets/controls",
      "model_module_version": "2.0.0",
      "model_name": "HBoxModel",
      "state": {
       "_dom_classes": [],
       "_model_module": "@jupyter-widgets/controls",
       "_model_module_version": "2.0.0",
       "_model_name": "HBoxModel",
       "_view_count": null,
       "_view_module": "@jupyter-widgets/controls",
       "_view_module_version": "2.0.0",
       "_view_name": "HBoxView",
       "box_style": "",
       "children": [
        "IPY_MODEL_d9e80951f7e1475f9a27642e429b6bf9",
        "IPY_MODEL_172df0b5438a45939f2725ba0ea521fb",
        "IPY_MODEL_c150907f219644258b053050d36a285b"
       ],
       "layout": "IPY_MODEL_25125d390d8b400fa86ce94cf1ee2f2c",
       "tabbable": null,
       "tooltip": null
      }
     },
     "fbbb403b69a343cdb5adf4604b0604b6": {
      "model_module": "@jupyter-widgets/base",
      "model_module_version": "2.0.0",
      "model_name": "LayoutModel",
      "state": {
       "_model_module": "@jupyter-widgets/base",
       "_model_module_version": "2.0.0",
       "_model_name": "LayoutModel",
       "_view_count": null,
       "_view_module": "@jupyter-widgets/base",
       "_view_module_version": "2.0.0",
       "_view_name": "LayoutView",
       "align_content": null,
       "align_items": null,
       "align_self": null,
       "border_bottom": null,
       "border_left": null,
       "border_right": null,
       "border_top": null,
       "bottom": null,
       "display": null,
       "flex": null,
       "flex_flow": null,
       "grid_area": null,
       "grid_auto_columns": null,
       "grid_auto_flow": null,
       "grid_auto_rows": null,
       "grid_column": null,
       "grid_gap": null,
       "grid_row": null,
       "grid_template_areas": null,
       "grid_template_columns": null,
       "grid_template_rows": null,
       "height": null,
       "justify_content": null,
       "justify_items": null,
       "left": null,
       "margin": null,
       "max_height": null,
       "max_width": null,
       "min_height": null,
       "min_width": null,
       "object_fit": null,
       "object_position": null,
       "order": null,
       "overflow": null,
       "padding": null,
       "right": null,
       "top": null,
       "visibility": null,
       "width": null
      }
     }
    },
    "version_major": 2,
    "version_minor": 0
   }
  }
 },
 "nbformat": 4,
 "nbformat_minor": 2
}
