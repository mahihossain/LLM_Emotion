{
 "cells": [
  {
   "cell_type": "code",
   "execution_count": 14,
   "metadata": {},
   "outputs": [],
   "source": [
    "# Imports\n",
    "import pandas as pd"
   ]
  },
  {
   "cell_type": "code",
   "execution_count": 15,
   "metadata": {},
   "outputs": [],
   "source": [
    "# Load the data 2deep_transcript.txt\n",
    "data = pd.read_csv('data/2deep_transcript.csv', delimiter=';')"
   ]
  },
  {
   "cell_type": "code",
   "execution_count": 16,
   "metadata": {},
   "outputs": [
    {
     "data": {
      "text/html": [
       "<div>\n",
       "<style scoped>\n",
       "    .dataframe tbody tr th:only-of-type {\n",
       "        vertical-align: middle;\n",
       "    }\n",
       "\n",
       "    .dataframe tbody tr th {\n",
       "        vertical-align: top;\n",
       "    }\n",
       "\n",
       "    .dataframe thead th {\n",
       "        text-align: right;\n",
       "    }\n",
       "</style>\n",
       "<table border=\"1\" class=\"dataframe\">\n",
       "  <thead>\n",
       "    <tr style=\"text-align: right;\">\n",
       "      <th></th>\n",
       "      <th>Eyes</th>\n",
       "      <th>EkmanExpression</th>\n",
       "      <th>Gaze</th>\n",
       "      <th>Head</th>\n",
       "      <th>HeadTilt</th>\n",
       "      <th>Smile</th>\n",
       "      <th>Speech</th>\n",
       "      <th>UpperBody</th>\n",
       "      <th>SmileControl</th>\n",
       "      <th>EmotionRegulation1</th>\n",
       "      <th>...</th>\n",
       "      <th>InternalEmotion</th>\n",
       "      <th>MindednessMean</th>\n",
       "      <th>ShameAwarenessSituation</th>\n",
       "      <th>ShameAwarenessInterview</th>\n",
       "      <th>RelationshipIntention</th>\n",
       "      <th>Situation</th>\n",
       "      <th>DisplayRule</th>\n",
       "      <th>Gender</th>\n",
       "      <th>transcript</th>\n",
       "      <th>session</th>\n",
       "    </tr>\n",
       "  </thead>\n",
       "  <tbody>\n",
       "    <tr>\n",
       "      <th>0</th>\n",
       "      <td>REST</td>\n",
       "      <td>REST</td>\n",
       "      <td>REST</td>\n",
       "      <td>REST</td>\n",
       "      <td>REST</td>\n",
       "      <td>REST</td>\n",
       "      <td>REST</td>\n",
       "      <td>REST</td>\n",
       "      <td>REST</td>\n",
       "      <td>REST</td>\n",
       "      <td>...</td>\n",
       "      <td>REST</td>\n",
       "      <td>REST</td>\n",
       "      <td>REST</td>\n",
       "      <td>REST</td>\n",
       "      <td>REST</td>\n",
       "      <td>REST</td>\n",
       "      <td>REST</td>\n",
       "      <td>REST</td>\n",
       "      <td>REST</td>\n",
       "      <td>VPN01</td>\n",
       "    </tr>\n",
       "    <tr>\n",
       "      <th>1</th>\n",
       "      <td>REST</td>\n",
       "      <td>REST</td>\n",
       "      <td>STRAIGHT_AT_INTERVIEWER</td>\n",
       "      <td>REST</td>\n",
       "      <td>REST</td>\n",
       "      <td>REST</td>\n",
       "      <td>REST</td>\n",
       "      <td>REST</td>\n",
       "      <td>REST</td>\n",
       "      <td>REST</td>\n",
       "      <td>...</td>\n",
       "      <td>REST</td>\n",
       "      <td>REST</td>\n",
       "      <td>REST</td>\n",
       "      <td>REST</td>\n",
       "      <td>REST</td>\n",
       "      <td>REST</td>\n",
       "      <td>REST</td>\n",
       "      <td>REST</td>\n",
       "      <td>REST</td>\n",
       "      <td>VPN01</td>\n",
       "    </tr>\n",
       "    <tr>\n",
       "      <th>2</th>\n",
       "      <td>REST</td>\n",
       "      <td>REST</td>\n",
       "      <td>STRAIGHT_AT_INTERVIEWER</td>\n",
       "      <td>REST</td>\n",
       "      <td>REST</td>\n",
       "      <td>REST</td>\n",
       "      <td>REST</td>\n",
       "      <td>REST</td>\n",
       "      <td>REST</td>\n",
       "      <td>REST</td>\n",
       "      <td>...</td>\n",
       "      <td>REST</td>\n",
       "      <td>REST</td>\n",
       "      <td>REST</td>\n",
       "      <td>REST</td>\n",
       "      <td>REST</td>\n",
       "      <td>REST</td>\n",
       "      <td>REST</td>\n",
       "      <td>REST</td>\n",
       "      <td>REST</td>\n",
       "      <td>VPN01</td>\n",
       "    </tr>\n",
       "    <tr>\n",
       "      <th>3</th>\n",
       "      <td>REST</td>\n",
       "      <td>REST</td>\n",
       "      <td>STRAIGHT_AT_INTERVIEWER</td>\n",
       "      <td>STRAIGHT</td>\n",
       "      <td>REST</td>\n",
       "      <td>REST</td>\n",
       "      <td>REST</td>\n",
       "      <td>STRAIGHT</td>\n",
       "      <td>REST</td>\n",
       "      <td>REST</td>\n",
       "      <td>...</td>\n",
       "      <td>REST</td>\n",
       "      <td>REST</td>\n",
       "      <td>REST</td>\n",
       "      <td>REST</td>\n",
       "      <td>REST</td>\n",
       "      <td>REST</td>\n",
       "      <td>REST</td>\n",
       "      <td>REST</td>\n",
       "      <td>REST</td>\n",
       "      <td>VPN01</td>\n",
       "    </tr>\n",
       "    <tr>\n",
       "      <th>4</th>\n",
       "      <td>REST</td>\n",
       "      <td>REST</td>\n",
       "      <td>STRAIGHT_AT_INTERVIEWER</td>\n",
       "      <td>STRAIGHT</td>\n",
       "      <td>REST</td>\n",
       "      <td>REST</td>\n",
       "      <td>REST</td>\n",
       "      <td>STRAIGHT</td>\n",
       "      <td>REST</td>\n",
       "      <td>REST</td>\n",
       "      <td>...</td>\n",
       "      <td>REST</td>\n",
       "      <td>REST</td>\n",
       "      <td>REST</td>\n",
       "      <td>REST</td>\n",
       "      <td>REST</td>\n",
       "      <td>REST</td>\n",
       "      <td>REST</td>\n",
       "      <td>REST</td>\n",
       "      <td>REST</td>\n",
       "      <td>VPN01</td>\n",
       "    </tr>\n",
       "  </tbody>\n",
       "</table>\n",
       "<p>5 rows × 22 columns</p>\n",
       "</div>"
      ],
      "text/plain": [
       "   Eyes EkmanExpression                     Gaze      Head HeadTilt Smile  \\\n",
       "0  REST            REST                     REST      REST     REST  REST   \n",
       "1  REST            REST  STRAIGHT_AT_INTERVIEWER      REST     REST  REST   \n",
       "2  REST            REST  STRAIGHT_AT_INTERVIEWER      REST     REST  REST   \n",
       "3  REST            REST  STRAIGHT_AT_INTERVIEWER  STRAIGHT     REST  REST   \n",
       "4  REST            REST  STRAIGHT_AT_INTERVIEWER  STRAIGHT     REST  REST   \n",
       "\n",
       "  Speech UpperBody SmileControl EmotionRegulation1  ... InternalEmotion  \\\n",
       "0   REST      REST         REST               REST  ...            REST   \n",
       "1   REST      REST         REST               REST  ...            REST   \n",
       "2   REST      REST         REST               REST  ...            REST   \n",
       "3   REST  STRAIGHT         REST               REST  ...            REST   \n",
       "4   REST  STRAIGHT         REST               REST  ...            REST   \n",
       "\n",
       "  MindednessMean ShameAwarenessSituation ShameAwarenessInterview  \\\n",
       "0           REST                    REST                    REST   \n",
       "1           REST                    REST                    REST   \n",
       "2           REST                    REST                    REST   \n",
       "3           REST                    REST                    REST   \n",
       "4           REST                    REST                    REST   \n",
       "\n",
       "  RelationshipIntention Situation DisplayRule Gender transcript session  \n",
       "0                  REST      REST        REST   REST       REST   VPN01  \n",
       "1                  REST      REST        REST   REST       REST   VPN01  \n",
       "2                  REST      REST        REST   REST       REST   VPN01  \n",
       "3                  REST      REST        REST   REST       REST   VPN01  \n",
       "4                  REST      REST        REST   REST       REST   VPN01  \n",
       "\n",
       "[5 rows x 22 columns]"
      ]
     },
     "execution_count": 16,
     "metadata": {},
     "output_type": "execute_result"
    }
   ],
   "source": [
    "data.head()"
   ]
  },
  {
   "cell_type": "code",
   "execution_count": 17,
   "metadata": {},
   "outputs": [
    {
     "data": {
      "text/plain": [
       "(41389, 22)"
      ]
     },
     "execution_count": 17,
     "metadata": {},
     "output_type": "execute_result"
    }
   ],
   "source": [
    "# Check the dimensions of the data\n",
    "data.shape"
   ]
  },
  {
   "cell_type": "code",
   "execution_count": 18,
   "metadata": {},
   "outputs": [
    {
     "data": {
      "text/plain": [
       "array(['REST', 'DEPRECIATION', 'AVOIDANCE', 'STABILIZE_SELF',\n",
       "       'ATTACK_OTHER', 'WITHDRAWAL', 'ATTACK_SELF'], dtype=object)"
      ]
     },
     "execution_count": 18,
     "metadata": {},
     "output_type": "execute_result"
    }
   ],
   "source": [
    "# Check in the EmotionRegulation1 column which distict values are present\n",
    "data['EmotionRegulation1'].unique()"
   ]
  },
  {
   "cell_type": "code",
   "execution_count": 19,
   "metadata": {},
   "outputs": [
    {
     "data": {
      "text/plain": [
       "array(['REST', 'PRE_SHAME', 'S1', 'S2'], dtype=object)"
      ]
     },
     "execution_count": 19,
     "metadata": {},
     "output_type": "execute_result"
    }
   ],
   "source": [
    "# Same for Situation column\n",
    "data['Situation'].unique()"
   ]
  },
  {
   "cell_type": "code",
   "execution_count": 20,
   "metadata": {},
   "outputs": [],
   "source": [
    "# Drop every row where Situation is not 'S1' or 'S2'\n",
    "data_new = data[data['Situation'].isin(['S1', 'S2'])]"
   ]
  },
  {
   "cell_type": "code",
   "execution_count": 21,
   "metadata": {},
   "outputs": [
    {
     "data": {
      "text/plain": [
       "array(['S1', 'S2'], dtype=object)"
      ]
     },
     "execution_count": 21,
     "metadata": {},
     "output_type": "execute_result"
    }
   ],
   "source": [
    "data_new['Situation'].unique()"
   ]
  },
  {
   "cell_type": "code",
   "execution_count": 22,
   "metadata": {},
   "outputs": [],
   "source": [
    "# Drop every column other than Eyes;Gaze;Head;HeadTilt;Smile;Speech;UpperBody;SmileControl;\n",
    "# EkmanExpression;ExperiencedEmotion1;ExperiencedEmotion2;InternalEmotion;ShameAwarenessSituation;ShameAwarenessInterview;\n",
    "# DisplayRule;RelationshipIntention;MindednessMean;Gender;Situation;transcript;\n",
    "\n",
    "columns_to_keep = ['Eyes', 'Gaze', 'Head', 'HeadTilt', 'Smile', 'Speech', 'UpperBody', 'SmileControl',\n",
    "                   'EkmanExpression', 'ExperiencedEmotion1', 'ExperiencedEmotion2', 'InternalEmotion',\n",
    "                   'ShameAwarenessSituation', 'ShameAwarenessInterview', 'DisplayRule', 'RelationshipIntention',\n",
    "                   'MindednessMean', 'Gender', 'Situation', 'transcript', 'session']\n",
    "\n",
    "data_new = data_new[columns_to_keep]"
   ]
  },
  {
   "cell_type": "code",
   "execution_count": 23,
   "metadata": {},
   "outputs": [
    {
     "data": {
      "text/html": [
       "<div>\n",
       "<style scoped>\n",
       "    .dataframe tbody tr th:only-of-type {\n",
       "        vertical-align: middle;\n",
       "    }\n",
       "\n",
       "    .dataframe tbody tr th {\n",
       "        vertical-align: top;\n",
       "    }\n",
       "\n",
       "    .dataframe thead th {\n",
       "        text-align: right;\n",
       "    }\n",
       "</style>\n",
       "<table border=\"1\" class=\"dataframe\">\n",
       "  <thead>\n",
       "    <tr style=\"text-align: right;\">\n",
       "      <th></th>\n",
       "      <th>Eyes</th>\n",
       "      <th>Gaze</th>\n",
       "      <th>Head</th>\n",
       "      <th>HeadTilt</th>\n",
       "      <th>Smile</th>\n",
       "      <th>Speech</th>\n",
       "      <th>UpperBody</th>\n",
       "      <th>SmileControl</th>\n",
       "      <th>EkmanExpression</th>\n",
       "      <th>ExperiencedEmotion1</th>\n",
       "      <th>...</th>\n",
       "      <th>InternalEmotion</th>\n",
       "      <th>ShameAwarenessSituation</th>\n",
       "      <th>ShameAwarenessInterview</th>\n",
       "      <th>DisplayRule</th>\n",
       "      <th>RelationshipIntention</th>\n",
       "      <th>MindednessMean</th>\n",
       "      <th>Gender</th>\n",
       "      <th>Situation</th>\n",
       "      <th>transcript</th>\n",
       "      <th>session</th>\n",
       "    </tr>\n",
       "  </thead>\n",
       "  <tbody>\n",
       "    <tr>\n",
       "      <th>786</th>\n",
       "      <td>REST</td>\n",
       "      <td>STRAIGHT_AT_INTERVIEWER</td>\n",
       "      <td>STRAIGHT</td>\n",
       "      <td>REST</td>\n",
       "      <td>REST</td>\n",
       "      <td>REST</td>\n",
       "      <td>STRAIGHT</td>\n",
       "      <td>REST</td>\n",
       "      <td>REST</td>\n",
       "      <td>SHAME_SHYNESS</td>\n",
       "      <td>...</td>\n",
       "      <td>GPA</td>\n",
       "      <td>AWARE_OF_SHAME</td>\n",
       "      <td>AWARE_OF_SHAME</td>\n",
       "      <td>REST</td>\n",
       "      <td>MAINTAIN_RELATIONSHIP</td>\n",
       "      <td>4,75</td>\n",
       "      <td>FEMALE</td>\n",
       "      <td>S1</td>\n",
       "      <td>REST</td>\n",
       "      <td>VPN01</td>\n",
       "    </tr>\n",
       "    <tr>\n",
       "      <th>787</th>\n",
       "      <td>REST</td>\n",
       "      <td>STRAIGHT_AT_INTERVIEWER</td>\n",
       "      <td>STRAIGHT</td>\n",
       "      <td>REST</td>\n",
       "      <td>REST</td>\n",
       "      <td>REST</td>\n",
       "      <td>STRAIGHT</td>\n",
       "      <td>REST</td>\n",
       "      <td>REST</td>\n",
       "      <td>SHAME_SHYNESS</td>\n",
       "      <td>...</td>\n",
       "      <td>GPA</td>\n",
       "      <td>AWARE_OF_SHAME</td>\n",
       "      <td>AWARE_OF_SHAME</td>\n",
       "      <td>REST</td>\n",
       "      <td>MAINTAIN_RELATIONSHIP</td>\n",
       "      <td>4,75</td>\n",
       "      <td>FEMALE</td>\n",
       "      <td>S1</td>\n",
       "      <td>REST</td>\n",
       "      <td>VPN01</td>\n",
       "    </tr>\n",
       "    <tr>\n",
       "      <th>788</th>\n",
       "      <td>REST</td>\n",
       "      <td>STRAIGHT_AT_INTERVIEWER</td>\n",
       "      <td>STRAIGHT</td>\n",
       "      <td>REST</td>\n",
       "      <td>REST</td>\n",
       "      <td>REST</td>\n",
       "      <td>STRAIGHT</td>\n",
       "      <td>REST</td>\n",
       "      <td>REST</td>\n",
       "      <td>SHAME_SHYNESS</td>\n",
       "      <td>...</td>\n",
       "      <td>GPA</td>\n",
       "      <td>AWARE_OF_SHAME</td>\n",
       "      <td>AWARE_OF_SHAME</td>\n",
       "      <td>REST</td>\n",
       "      <td>MAINTAIN_RELATIONSHIP</td>\n",
       "      <td>4,75</td>\n",
       "      <td>FEMALE</td>\n",
       "      <td>S1</td>\n",
       "      <td>REST</td>\n",
       "      <td>VPN01</td>\n",
       "    </tr>\n",
       "    <tr>\n",
       "      <th>789</th>\n",
       "      <td>REST</td>\n",
       "      <td>STRAIGHT_AT_INTERVIEWER</td>\n",
       "      <td>STRAIGHT</td>\n",
       "      <td>REST</td>\n",
       "      <td>REST</td>\n",
       "      <td>REST</td>\n",
       "      <td>STRAIGHT</td>\n",
       "      <td>REST</td>\n",
       "      <td>REST</td>\n",
       "      <td>SHAME_SHYNESS</td>\n",
       "      <td>...</td>\n",
       "      <td>GPA</td>\n",
       "      <td>AWARE_OF_SHAME</td>\n",
       "      <td>AWARE_OF_SHAME</td>\n",
       "      <td>REST</td>\n",
       "      <td>MAINTAIN_RELATIONSHIP</td>\n",
       "      <td>4,75</td>\n",
       "      <td>FEMALE</td>\n",
       "      <td>S1</td>\n",
       "      <td>REST</td>\n",
       "      <td>VPN01</td>\n",
       "    </tr>\n",
       "    <tr>\n",
       "      <th>790</th>\n",
       "      <td>REST</td>\n",
       "      <td>STRAIGHT_AT_INTERVIEWER</td>\n",
       "      <td>STRAIGHT</td>\n",
       "      <td>REST</td>\n",
       "      <td>REST</td>\n",
       "      <td>REST</td>\n",
       "      <td>STRAIGHT</td>\n",
       "      <td>REST</td>\n",
       "      <td>REST</td>\n",
       "      <td>SHAME_SHYNESS</td>\n",
       "      <td>...</td>\n",
       "      <td>GPA</td>\n",
       "      <td>AWARE_OF_SHAME</td>\n",
       "      <td>AWARE_OF_SHAME</td>\n",
       "      <td>REST</td>\n",
       "      <td>MAINTAIN_RELATIONSHIP</td>\n",
       "      <td>4,75</td>\n",
       "      <td>FEMALE</td>\n",
       "      <td>S1</td>\n",
       "      <td>REST</td>\n",
       "      <td>VPN01</td>\n",
       "    </tr>\n",
       "  </tbody>\n",
       "</table>\n",
       "<p>5 rows × 21 columns</p>\n",
       "</div>"
      ],
      "text/plain": [
       "     Eyes                     Gaze      Head HeadTilt Smile Speech UpperBody  \\\n",
       "786  REST  STRAIGHT_AT_INTERVIEWER  STRAIGHT     REST  REST   REST  STRAIGHT   \n",
       "787  REST  STRAIGHT_AT_INTERVIEWER  STRAIGHT     REST  REST   REST  STRAIGHT   \n",
       "788  REST  STRAIGHT_AT_INTERVIEWER  STRAIGHT     REST  REST   REST  STRAIGHT   \n",
       "789  REST  STRAIGHT_AT_INTERVIEWER  STRAIGHT     REST  REST   REST  STRAIGHT   \n",
       "790  REST  STRAIGHT_AT_INTERVIEWER  STRAIGHT     REST  REST   REST  STRAIGHT   \n",
       "\n",
       "    SmileControl EkmanExpression ExperiencedEmotion1  ... InternalEmotion  \\\n",
       "786         REST            REST       SHAME_SHYNESS  ...             GPA   \n",
       "787         REST            REST       SHAME_SHYNESS  ...             GPA   \n",
       "788         REST            REST       SHAME_SHYNESS  ...             GPA   \n",
       "789         REST            REST       SHAME_SHYNESS  ...             GPA   \n",
       "790         REST            REST       SHAME_SHYNESS  ...             GPA   \n",
       "\n",
       "    ShameAwarenessSituation ShameAwarenessInterview DisplayRule  \\\n",
       "786          AWARE_OF_SHAME          AWARE_OF_SHAME        REST   \n",
       "787          AWARE_OF_SHAME          AWARE_OF_SHAME        REST   \n",
       "788          AWARE_OF_SHAME          AWARE_OF_SHAME        REST   \n",
       "789          AWARE_OF_SHAME          AWARE_OF_SHAME        REST   \n",
       "790          AWARE_OF_SHAME          AWARE_OF_SHAME        REST   \n",
       "\n",
       "     RelationshipIntention MindednessMean  Gender Situation transcript session  \n",
       "786  MAINTAIN_RELATIONSHIP           4,75  FEMALE        S1       REST   VPN01  \n",
       "787  MAINTAIN_RELATIONSHIP           4,75  FEMALE        S1       REST   VPN01  \n",
       "788  MAINTAIN_RELATIONSHIP           4,75  FEMALE        S1       REST   VPN01  \n",
       "789  MAINTAIN_RELATIONSHIP           4,75  FEMALE        S1       REST   VPN01  \n",
       "790  MAINTAIN_RELATIONSHIP           4,75  FEMALE        S1       REST   VPN01  \n",
       "\n",
       "[5 rows x 21 columns]"
      ]
     },
     "execution_count": 23,
     "metadata": {},
     "output_type": "execute_result"
    }
   ],
   "source": [
    "data_new.head()"
   ]
  },
  {
   "cell_type": "code",
   "execution_count": 24,
   "metadata": {},
   "outputs": [
    {
     "data": {
      "text/plain": [
       "21"
      ]
     },
     "execution_count": 24,
     "metadata": {},
     "output_type": "execute_result"
    }
   ],
   "source": [
    "len(columns_to_keep)"
   ]
  },
  {
   "cell_type": "code",
   "execution_count": 25,
   "metadata": {},
   "outputs": [
    {
     "data": {
      "text/plain": [
       "(11535, 21)"
      ]
     },
     "execution_count": 25,
     "metadata": {},
     "output_type": "execute_result"
    }
   ],
   "source": [
    "# Check the dimensions of the new data\n",
    "data_new.shape"
   ]
  },
  {
   "cell_type": "code",
   "execution_count": 26,
   "metadata": {},
   "outputs": [],
   "source": [
    "# Save the new data to a csv file, with delimiter ,\n",
    "data_new.to_csv('data/2deep_transcript_cleaned.csv', sep=',', index=False)"
   ]
  }
 ],
 "metadata": {
  "kernelspec": {
   "display_name": "Python 3",
   "language": "python",
   "name": "python3"
  },
  "language_info": {
   "codemirror_mode": {
    "name": "ipython",
    "version": 3
   },
   "file_extension": ".py",
   "mimetype": "text/x-python",
   "name": "python",
   "nbconvert_exporter": "python",
   "pygments_lexer": "ipython3",
   "version": "3.10.12"
  }
 },
 "nbformat": 4,
 "nbformat_minor": 2
}
